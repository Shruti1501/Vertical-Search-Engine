{
 "cells": [
  {
   "cell_type": "code",
   "execution_count": 10,
   "metadata": {},
   "outputs": [],
   "source": [
    "import pandas as pd\n",
    "import numpy as np\n",
    "import matplotlib.pyplot as plt\n",
    "import seaborn as sns\n",
    "%matplotlib inline\n",
    "from urllib.request import urlopen\n",
    "from bs4 import BeautifulSoup\n",
    "import datetime\n",
    "import unicodedata\n",
    "import time\n",
    "from tqdm import tqdm\n",
    "import numpy as np\n",
    "import matplotlib.pyplot as plt\n",
    "import seaborn as sns\n",
    "%matplotlib inline\n",
    "from urllib.request import urlopen\n",
    "from bs4 import BeautifulSoup\n",
    "import datetime\n",
    "import unicodedata\n",
    "import time\n",
    "from tqdm import tqdm\n",
    "import re\n",
    "import sys\n",
    "import requests\n",
    "import warnings\n",
    "import pandas as pd\n",
    "\n",
    "from time import sleep\n",
    "from copy import deepcopy\n",
    "from tqdm import tqdm_notebook as tqdm\n",
    "from IPython.display import Markdown, display"
   ]
  },
  {
   "cell_type": "code",
   "execution_count": 11,
   "metadata": {},
   "outputs": [
    {
     "name": "stdout",
     "output_type": "stream",
     "text": [
      "Time of Crawl: 2020-07-29\n"
     ]
    }
   ],
   "source": [
    "# Print Timestamp At time of crawl\n",
    "datePosted = str(datetime.date.today())\n",
    "print('Time of Crawl: ' + datePosted)"
   ]
  },
  {
   "cell_type": "code",
   "execution_count": 12,
   "metadata": {},
   "outputs": [
    {
     "data": {
      "text/markdown": [
       "<span style='font-family:courier;color:red;font-size:115%;' >**--> Libraries Imported Successfully.**</span>"
      ],
      "text/plain": [
       "<IPython.core.display.Markdown object>"
      ]
     },
     "metadata": {},
     "output_type": "display_data"
    }
   ],
   "source": [
    "warnings.filterwarnings('ignore')\n",
    "\n",
    "def printmd(string):\n",
    "    display(Markdown(string))\n",
    "\n",
    "printmd(\"<span style='font-family:courier;color:red;font-size:115%;' >**--> Libraries Imported Successfully.**</span>\")"
   ]
  },
  {
   "cell_type": "code",
   "execution_count": 13,
   "metadata": {},
   "outputs": [
    {
     "name": "stdout",
     "output_type": "stream",
     "text": [
      "\n",
      "===========================\n",
      "Fetching University Page(s) :\n",
      "===========================\n"
     ]
    },
    {
     "data": {
      "application/vnd.jupyter.widget-view+json": {
       "model_id": "66eedaa9bc8f43d1a7dba11811b222d8",
       "version_major": 2,
       "version_minor": 0
      },
      "text/plain": [
       "HBox(children=(FloatProgress(value=0.0, max=10.0), HTML(value='')))"
      ]
     },
     "metadata": {},
     "output_type": "display_data"
    },
    {
     "name": "stdout",
     "output_type": "stream",
     "text": [
      "\n"
     ]
    },
    {
     "data": {
      "text/markdown": [
       "<span style='font-family:courier;color:red;font-size:115%;' > **--> There are Total 10 university page(s) found, each page(s) contains 50 researchers profile links.**</span>"
      ],
      "text/plain": [
       "<IPython.core.display.Markdown object>"
      ]
     },
     "metadata": {},
     "output_type": "display_data"
    }
   ],
   "source": [
    "print(\"\\n===========================\")\n",
    "print(\"Fetching University Page(s) :\")\n",
    "print(\"===========================\")\n",
    "\n",
    "base_url = 'https://pure.hud.ac.uk/en/persons/?format=&page='\n",
    "\n",
    "total_pages = 10\n",
    "\n",
    "uni_urls = []\n",
    "\n",
    "for x in tqdm(range(total_pages)):\n",
    "    uni_urls.append(base_url+str(x))\n",
    "    \n",
    "no_of_profiles = total_pages*50\n",
    "    \n",
    "printmd(\"<span style='font-family:courier;color:red;font-size:115%;' > **--> There are Total \"+str(total_pages)+\" university page(s) found, each page(s) contains 50 researchers profile links.**</span>\")"
   ]
  },
  {
   "cell_type": "code",
   "execution_count": 14,
   "metadata": {},
   "outputs": [
    {
     "name": "stdout",
     "output_type": "stream",
     "text": [
      "\n",
      "================================\n",
      "Fetching links of All Profiles : \n",
      "================================\n"
     ]
    },
    {
     "data": {
      "application/vnd.jupyter.widget-view+json": {
       "model_id": "827e652d1f8f4a4193d4efe9671c2234",
       "version_major": 2,
       "version_minor": 0
      },
      "text/plain": [
       "HBox(children=(FloatProgress(value=0.0, max=10.0), HTML(value='')))"
      ]
     },
     "metadata": {},
     "output_type": "display_data"
    },
    {
     "name": "stdout",
     "output_type": "stream",
     "text": [
      "\n"
     ]
    },
    {
     "data": {
      "text/markdown": [
       "<span style='font-family:courier;color:red;font-size:115%;' > **--> Total 500  Numbers of Researchers Profile Found.**</span>"
      ],
      "text/plain": [
       "<IPython.core.display.Markdown object>"
      ]
     },
     "metadata": {},
     "output_type": "display_data"
    }
   ],
   "source": [
    "print(\"\\n================================\")\n",
    "print(\"Fetching links of All Profiles : \")\n",
    "print(\"================================\")\n",
    "\n",
    "prof_links = []\n",
    "\n",
    "for uni_url in tqdm(uni_urls):\n",
    "    request = requests.get(uni_url)\n",
    "    soup = BeautifulSoup(request.content, 'html.parser')    \n",
    "    result_grid = soup.find('section', { \"class\" : \"grid-results\"})\n",
    "    \n",
    "    for a in result_grid.find_all('a', { \"class\" : \"link person\" }, href=True):\n",
    "        prof_links.append(a['href'])\n",
    "\n",
    "\n",
    "printmd(\"<span style='font-family:courier;color:red;font-size:115%;' > **--> Total \"+str(len(prof_links))+\"  Numbers of Researchers Profile Found.**</span>\")"
   ]
  },
  {
   "cell_type": "code",
   "execution_count": 15,
   "metadata": {},
   "outputs": [
    {
     "name": "stdout",
     "output_type": "stream",
     "text": [
      "\n",
      "=====================================\n",
      "Fetching Details of Each Researcher : \n",
      "=====================================\n"
     ]
    },
    {
     "data": {
      "application/vnd.jupyter.widget-view+json": {
       "model_id": "00de532e42ec4e04bce86c63d91f8c2d",
       "version_major": 2,
       "version_minor": 0
      },
      "text/plain": [
       "HBox(children=(FloatProgress(value=0.0, max=500.0), HTML(value='')))"
      ]
     },
     "metadata": {},
     "output_type": "display_data"
    },
    {
     "name": "stdout",
     "output_type": "stream",
     "text": [
      "\n"
     ]
    },
    {
     "data": {
      "text/markdown": [
       "<span style='font-family:courier;color:green;font-size:115%;' > **--> Profile Details of 500 Researchers fetched Successfully.**</span>"
      ],
      "text/plain": [
       "<IPython.core.display.Markdown object>"
      ]
     },
     "metadata": {},
     "output_type": "display_data"
    }
   ],
   "source": [
    "print(\"\\n=====================================\")\n",
    "print(\"Fetching Details of Each Researcher : \")\n",
    "print(\"=====================================\")\n",
    "\n",
    "#prof_link = ['https://research-information.bris.ac.uk/en/persons/david-w-f-abbott', 'https://research-information.bris.ac.uk/en/persons/ana-paula-abdala-sheikh', 'https://research-information.bris.ac.uk/en/persons/zeina-abdallah']\n",
    "\n",
    "prof_data = []\n",
    "\n",
    "\n",
    "for row in tqdm(prof_links):\n",
    "    prof_request = requests.get(row)\n",
    "    prof_soup = BeautifulSoup(prof_request.content, 'html.parser')\n",
    "    prof_grid = prof_soup.find('div', { \"class\" : \"profile\"})\n",
    "    \n",
    "    info = dict()\n",
    "    prof_info = []\n",
    "    \n",
    "    info['url'] = row if row else \"-\"\n",
    "    info['image_url'] = \"https://pure.hud.ac.uk//\"+prof_grid.find('img').attrs['src'] if prof_grid.find('img').attrs['src'] else \"-\"\n",
    "    info['name'] = prof_grid.select_one('.person-details h1').text.strip() if prof_grid.select_one('.person-details h1') else \"-\"\n",
    "    info['department'] = prof_grid.select_one('ul li a').text.strip() if prof_grid.select_one('ul li a') else \"-\"\n",
    "    info['university'] = \"University of Huddersfield\"\n",
    "    info['phone'] = prof_grid.select_one('.phones .description').text.strip() if prof_grid.select_one('.phones .description') else \"-\"\n",
    "    info['email'] = prof_grid.select_one('.emails .description').text.strip() if prof_grid.select_one('.emails .description') else \"-\"\n",
    "    info['fingerprints_url'] = row+\"/fingerprints\" if row else \"-\"\n",
    "    info['projects_url'] = row+\"/projects\" if row else \"-\"\n",
    "    \n",
    "    prof_info.append(info[\"url\"])\n",
    "    prof_info.append(info[\"image_url\"])\n",
    "    prof_info.append(info[\"name\"])\n",
    "    prof_info.append(info[\"department\"])\n",
    "    prof_info.append(info[\"university\"])\n",
    "    prof_info.append(info[\"phone\"])\n",
    "    prof_info.append(info[\"email\"])\n",
    "    \n",
    "    ##########################\n",
    "    \n",
    "    prof_info.append(info[\"fingerprints_url\"])\n",
    "    \n",
    "    fingerprint_request = requests.get(info[\"fingerprints_url\"])\n",
    "    fingerprint_soup = BeautifulSoup(fingerprint_request.content, 'html.parser')    \n",
    "    fingerprint_grid = fingerprint_soup.find('div', { \"class\" : \"person-fingerprints\"})\n",
    "    \n",
    "    prof_research = []\n",
    "    \n",
    "    for research in fingerprint_soup.find_all('span', { \"class\" : \"concept\" }):\n",
    "        prof_research.append(research.text)\n",
    "    \n",
    "    prof_info.append(str(prof_research)[1:-1])\n",
    "    \n",
    "    ##########################\n",
    "    \n",
    "    prof_info.append(info[\"projects_url\"])\n",
    "    \n",
    "    project_request = requests.get(info[\"projects_url\"])\n",
    "    project_soup = BeautifulSoup(project_request.content, 'html.parser')    \n",
    "    project_grid = project_soup.find('section', { \"class\" : \"list-results\"})\n",
    "\n",
    "    prof_all_project = []\n",
    "    \n",
    "    for a in project_grid.find_all('div', { \"class\" : \"result-container\" }):\n",
    "\n",
    "        proj_info = dict()\n",
    "        \n",
    "        proj_info['title'] = a.select_one('.title').text.strip() if a.select_one('.title') else \"-\"\n",
    "        proj_info['person'] = a.select_one('p span').text.strip() if a.select_one('p span') else \"-\"\n",
    "        proj_info['fundings'] = a.select_one('.fundings').text.strip() if a.select_one('.fundings') else \"-\"\n",
    "        proj_info['period'] = a.select_one('.period').text.strip() if a.select_one('.period') else \"-\"\n",
    "        proj_info['type'] = a.select_one('.type_classification').text.strip() if a.select_one('.type_classification') else \"-\"\n",
    "\n",
    "        prof_proj = []\n",
    "        \n",
    "        prof_proj.append(proj_info['title'])\n",
    "        prof_proj.append(proj_info['person'])\n",
    "        prof_proj.append(proj_info['fundings'])\n",
    "        prof_proj.append(proj_info['period'])\n",
    "        prof_proj.append(proj_info['type'])\n",
    "        \n",
    "        prof_all_project.append(prof_proj)\n",
    "    \n",
    "    prof_info.append(prof_all_project)\n",
    "    \n",
    "    ##########################\n",
    "    \n",
    "    \n",
    "    prof_data.append(prof_info)\n",
    "    \n",
    "\n",
    "#print(prof_info)\n",
    "#print(prof_data)\n",
    "\n",
    "printmd(\"<span style='font-family:courier;color:green;font-size:115%;' > **--> Profile Details of \"+str(len(prof_links))+\" Researchers fetched Successfully.**</span>\")"
   ]
  },
  {
   "cell_type": "code",
   "execution_count": 16,
   "metadata": {},
   "outputs": [
    {
     "data": {
      "text/html": [
       "<div>\n",
       "<style scoped>\n",
       "    .dataframe tbody tr th:only-of-type {\n",
       "        vertical-align: middle;\n",
       "    }\n",
       "\n",
       "    .dataframe tbody tr th {\n",
       "        vertical-align: top;\n",
       "    }\n",
       "\n",
       "    .dataframe thead th {\n",
       "        text-align: right;\n",
       "    }\n",
       "</style>\n",
       "<table border=\"1\" class=\"dataframe\">\n",
       "  <thead>\n",
       "    <tr style=\"text-align: right;\">\n",
       "      <th></th>\n",
       "      <th>profile_url</th>\n",
       "      <th>image_url</th>\n",
       "      <th>full_name</th>\n",
       "      <th>department</th>\n",
       "      <th>university</th>\n",
       "      <th>contact</th>\n",
       "      <th>email</th>\n",
       "      <th>fingerprints_url</th>\n",
       "      <th>research_topic</th>\n",
       "      <th>projects_url</th>\n",
       "      <th>project_info</th>\n",
       "    </tr>\n",
       "  </thead>\n",
       "  <tbody>\n",
       "    <tr>\n",
       "      <th>0</th>\n",
       "      <td>https://pure.hud.ac.uk/en/persons/paul-abba</td>\n",
       "      <td>https://pure.hud.ac.uk///files-asset/21351801/...</td>\n",
       "      <td>Paul Abba</td>\n",
       "      <td>The Law School</td>\n",
       "      <td>University of Huddersfield</td>\n",
       "      <td>-</td>\n",
       "      <td>P.U.Abba@hud.ac.uk</td>\n",
       "      <td>https://pure.hud.ac.uk/en/persons/paul-abba/fi...</td>\n",
       "      <td></td>\n",
       "      <td>https://pure.hud.ac.uk/en/persons/paul-abba/pr...</td>\n",
       "      <td>[]</td>\n",
       "    </tr>\n",
       "    <tr>\n",
       "      <th>1</th>\n",
       "      <td>https://pure.hud.ac.uk/en/persons/andrew-adams</td>\n",
       "      <td>https://pure.hud.ac.uk///files-asset/6764654/A...</td>\n",
       "      <td>Andrew Adams</td>\n",
       "      <td>Department of Pharmacy</td>\n",
       "      <td>University of Huddersfield</td>\n",
       "      <td>01484 473952</td>\n",
       "      <td>A.Adams@hud.ac.uk</td>\n",
       "      <td>https://pure.hud.ac.uk/en/persons/andrew-adams...</td>\n",
       "      <td>'Pharmaceutical Chemistry', 'Students', 'Pharm...</td>\n",
       "      <td>https://pure.hud.ac.uk/en/persons/andrew-adams...</td>\n",
       "      <td>[]</td>\n",
       "    </tr>\n",
       "    <tr>\n",
       "      <th>2</th>\n",
       "      <td>https://pure.hud.ac.uk/en/persons/karen-adams</td>\n",
       "      <td>https://pure.hud.ac.uk///files-asset/6801446/K...</td>\n",
       "      <td>Karen Adams</td>\n",
       "      <td>Department of Nursing and Midwifery</td>\n",
       "      <td>University of Huddersfield</td>\n",
       "      <td>01484 472195</td>\n",
       "      <td>k.l.adams@hud.ac.uk</td>\n",
       "      <td>https://pure.hud.ac.uk/en/persons/karen-adams/...</td>\n",
       "      <td>'Community Health Nurses', 'Education', 'Healt...</td>\n",
       "      <td>https://pure.hud.ac.uk/en/persons/karen-adams/...</td>\n",
       "      <td>[]</td>\n",
       "    </tr>\n",
       "    <tr>\n",
       "      <th>3</th>\n",
       "      <td>https://pure.hud.ac.uk/en/persons/kweku-adams</td>\n",
       "      <td>https://pure.hud.ac.uk///files-asset/19484937/...</td>\n",
       "      <td>Kweku Adams</td>\n",
       "      <td>Department of Management</td>\n",
       "      <td>University of Huddersfield</td>\n",
       "      <td>01484 471447</td>\n",
       "      <td>K.Adams@hud.ac.uk</td>\n",
       "      <td>https://pure.hud.ac.uk/en/persons/kweku-adams/...</td>\n",
       "      <td>'Ghana', 'direct investment', 'natural resourc...</td>\n",
       "      <td>https://pure.hud.ac.uk/en/persons/kweku-adams/...</td>\n",
       "      <td>[]</td>\n",
       "    </tr>\n",
       "    <tr>\n",
       "      <th>4</th>\n",
       "      <td>https://pure.hud.ac.uk/en/persons/katie-addinall</td>\n",
       "      <td>https://pure.hud.ac.uk///files-asset/20705376/...</td>\n",
       "      <td>Katie Addinall</td>\n",
       "      <td>Department of Engineering and Technology</td>\n",
       "      <td>University of Huddersfield</td>\n",
       "      <td>01484 472964</td>\n",
       "      <td>K.Addinall@hud.ac.uk</td>\n",
       "      <td>https://pure.hud.ac.uk/en/persons/katie-addina...</td>\n",
       "      <td>'filaments', 'textures', 'degradation', 'metro...</td>\n",
       "      <td>https://pure.hud.ac.uk/en/persons/katie-addina...</td>\n",
       "      <td>[]</td>\n",
       "    </tr>\n",
       "    <tr>\n",
       "      <th>...</th>\n",
       "      <td>...</td>\n",
       "      <td>...</td>\n",
       "      <td>...</td>\n",
       "      <td>...</td>\n",
       "      <td>...</td>\n",
       "      <td>...</td>\n",
       "      <td>...</td>\n",
       "      <td>...</td>\n",
       "      <td>...</td>\n",
       "      <td>...</td>\n",
       "      <td>...</td>\n",
       "    </tr>\n",
       "    <tr>\n",
       "      <th>495</th>\n",
       "      <td>https://pure.hud.ac.uk/en/persons/kate-lavender</td>\n",
       "      <td>https://pure.hud.ac.uk///assets/no-portrait-47...</td>\n",
       "      <td>Kate Lavender</td>\n",
       "      <td>Department of Initial Teacher Education</td>\n",
       "      <td>University of Huddersfield</td>\n",
       "      <td>01484 478250</td>\n",
       "      <td>K.Lavender2@hud.ac.uk</td>\n",
       "      <td>https://pure.hud.ac.uk/en/persons/kate-lavende...</td>\n",
       "      <td>'employability', 'education', 'experience', 'l...</td>\n",
       "      <td>https://pure.hud.ac.uk/en/persons/kate-lavende...</td>\n",
       "      <td>[]</td>\n",
       "    </tr>\n",
       "    <tr>\n",
       "      <th>496</th>\n",
       "      <td>https://pure.hud.ac.uk/en/persons/andrew-laws</td>\n",
       "      <td>https://pure.hud.ac.uk///files-asset/6764545/L...</td>\n",
       "      <td>Andrew Laws</td>\n",
       "      <td>Department of Chemical Sciences</td>\n",
       "      <td>University of Huddersfield</td>\n",
       "      <td>-</td>\n",
       "      <td>a.p.laws@hud.ac.uk</td>\n",
       "      <td>https://pure.hud.ac.uk/en/persons/andrew-laws/...</td>\n",
       "      <td>'Lactams', 'Hydrolysis', 'Acids', 'Polysacchar...</td>\n",
       "      <td>https://pure.hud.ac.uk/en/persons/andrew-laws/...</td>\n",
       "      <td>[[Isolation and characterization of industrial...</td>\n",
       "    </tr>\n",
       "    <tr>\n",
       "      <th>497</th>\n",
       "      <td>https://pure.hud.ac.uk/en/persons/daniel-lawton</td>\n",
       "      <td>https://pure.hud.ac.uk///assets/no-portrait-47...</td>\n",
       "      <td>Daniel Lawton</td>\n",
       "      <td>Department of Allied Health Professions, Sport...</td>\n",
       "      <td>University of Huddersfield</td>\n",
       "      <td>01484 473784</td>\n",
       "      <td>D.Lawton@hud.ac.uk</td>\n",
       "      <td>https://pure.hud.ac.uk/en/persons/daniel-lawto...</td>\n",
       "      <td>'Out-of-Hospital Cardiac Arrest', 'Ambulances'...</td>\n",
       "      <td>https://pure.hud.ac.uk/en/persons/daniel-lawto...</td>\n",
       "      <td>[]</td>\n",
       "    </tr>\n",
       "    <tr>\n",
       "      <th>498</th>\n",
       "      <td>https://pure.hud.ac.uk/en/persons/keith-laybourn</td>\n",
       "      <td>https://pure.hud.ac.uk///files-asset/15689087/...</td>\n",
       "      <td>Keith Laybourn</td>\n",
       "      <td>School of Music, Humanities and Media</td>\n",
       "      <td>University of Huddersfield</td>\n",
       "      <td>-</td>\n",
       "      <td>-</td>\n",
       "      <td>https://pure.hud.ac.uk/en/persons/keith-laybou...</td>\n",
       "      <td>'police', 'guild', 'philanthropy', 'Ireland', ...</td>\n",
       "      <td>https://pure.hud.ac.uk/en/persons/keith-laybou...</td>\n",
       "      <td>[]</td>\n",
       "    </tr>\n",
       "    <tr>\n",
       "      <th>499</th>\n",
       "      <td>https://pure.hud.ac.uk/en/persons/pavlos-lazar...</td>\n",
       "      <td>https://pure.hud.ac.uk///files-asset/15064355/...</td>\n",
       "      <td>Pavlos Lazaridis</td>\n",
       "      <td>Department of Engineering and Technology</td>\n",
       "      <td>University of Huddersfield</td>\n",
       "      <td>01484 472107</td>\n",
       "      <td>P.Lazaridis@hud.ac.uk</td>\n",
       "      <td>https://pure.hud.ac.uk/en/persons/pavlos-lazar...</td>\n",
       "      <td>'Partial discharges', 'Antenna arrays', 'Log p...</td>\n",
       "      <td>https://pure.hud.ac.uk/en/persons/pavlos-lazar...</td>\n",
       "      <td>[]</td>\n",
       "    </tr>\n",
       "  </tbody>\n",
       "</table>\n",
       "<p>500 rows × 11 columns</p>\n",
       "</div>"
      ],
      "text/plain": [
       "                                           profile_url  \\\n",
       "0          https://pure.hud.ac.uk/en/persons/paul-abba   \n",
       "1       https://pure.hud.ac.uk/en/persons/andrew-adams   \n",
       "2        https://pure.hud.ac.uk/en/persons/karen-adams   \n",
       "3        https://pure.hud.ac.uk/en/persons/kweku-adams   \n",
       "4     https://pure.hud.ac.uk/en/persons/katie-addinall   \n",
       "..                                                 ...   \n",
       "495    https://pure.hud.ac.uk/en/persons/kate-lavender   \n",
       "496      https://pure.hud.ac.uk/en/persons/andrew-laws   \n",
       "497    https://pure.hud.ac.uk/en/persons/daniel-lawton   \n",
       "498   https://pure.hud.ac.uk/en/persons/keith-laybourn   \n",
       "499  https://pure.hud.ac.uk/en/persons/pavlos-lazar...   \n",
       "\n",
       "                                             image_url         full_name  \\\n",
       "0    https://pure.hud.ac.uk///files-asset/21351801/...         Paul Abba   \n",
       "1    https://pure.hud.ac.uk///files-asset/6764654/A...      Andrew Adams   \n",
       "2    https://pure.hud.ac.uk///files-asset/6801446/K...       Karen Adams   \n",
       "3    https://pure.hud.ac.uk///files-asset/19484937/...       Kweku Adams   \n",
       "4    https://pure.hud.ac.uk///files-asset/20705376/...    Katie Addinall   \n",
       "..                                                 ...               ...   \n",
       "495  https://pure.hud.ac.uk///assets/no-portrait-47...     Kate Lavender   \n",
       "496  https://pure.hud.ac.uk///files-asset/6764545/L...       Andrew Laws   \n",
       "497  https://pure.hud.ac.uk///assets/no-portrait-47...     Daniel Lawton   \n",
       "498  https://pure.hud.ac.uk///files-asset/15689087/...    Keith Laybourn   \n",
       "499  https://pure.hud.ac.uk///files-asset/15064355/...  Pavlos Lazaridis   \n",
       "\n",
       "                                            department  \\\n",
       "0                                       The Law School   \n",
       "1                               Department of Pharmacy   \n",
       "2                  Department of Nursing and Midwifery   \n",
       "3                             Department of Management   \n",
       "4             Department of Engineering and Technology   \n",
       "..                                                 ...   \n",
       "495            Department of Initial Teacher Education   \n",
       "496                    Department of Chemical Sciences   \n",
       "497  Department of Allied Health Professions, Sport...   \n",
       "498              School of Music, Humanities and Media   \n",
       "499           Department of Engineering and Technology   \n",
       "\n",
       "                     university       contact                  email  \\\n",
       "0    University of Huddersfield             -     P.U.Abba@hud.ac.uk   \n",
       "1    University of Huddersfield  01484 473952      A.Adams@hud.ac.uk   \n",
       "2    University of Huddersfield  01484 472195    k.l.adams@hud.ac.uk   \n",
       "3    University of Huddersfield  01484 471447      K.Adams@hud.ac.uk   \n",
       "4    University of Huddersfield  01484 472964   K.Addinall@hud.ac.uk   \n",
       "..                          ...           ...                    ...   \n",
       "495  University of Huddersfield  01484 478250  K.Lavender2@hud.ac.uk   \n",
       "496  University of Huddersfield             -     a.p.laws@hud.ac.uk   \n",
       "497  University of Huddersfield  01484 473784     D.Lawton@hud.ac.uk   \n",
       "498  University of Huddersfield             -                      -   \n",
       "499  University of Huddersfield  01484 472107  P.Lazaridis@hud.ac.uk   \n",
       "\n",
       "                                      fingerprints_url  \\\n",
       "0    https://pure.hud.ac.uk/en/persons/paul-abba/fi...   \n",
       "1    https://pure.hud.ac.uk/en/persons/andrew-adams...   \n",
       "2    https://pure.hud.ac.uk/en/persons/karen-adams/...   \n",
       "3    https://pure.hud.ac.uk/en/persons/kweku-adams/...   \n",
       "4    https://pure.hud.ac.uk/en/persons/katie-addina...   \n",
       "..                                                 ...   \n",
       "495  https://pure.hud.ac.uk/en/persons/kate-lavende...   \n",
       "496  https://pure.hud.ac.uk/en/persons/andrew-laws/...   \n",
       "497  https://pure.hud.ac.uk/en/persons/daniel-lawto...   \n",
       "498  https://pure.hud.ac.uk/en/persons/keith-laybou...   \n",
       "499  https://pure.hud.ac.uk/en/persons/pavlos-lazar...   \n",
       "\n",
       "                                        research_topic  \\\n",
       "0                                                        \n",
       "1    'Pharmaceutical Chemistry', 'Students', 'Pharm...   \n",
       "2    'Community Health Nurses', 'Education', 'Healt...   \n",
       "3    'Ghana', 'direct investment', 'natural resourc...   \n",
       "4    'filaments', 'textures', 'degradation', 'metro...   \n",
       "..                                                 ...   \n",
       "495  'employability', 'education', 'experience', 'l...   \n",
       "496  'Lactams', 'Hydrolysis', 'Acids', 'Polysacchar...   \n",
       "497  'Out-of-Hospital Cardiac Arrest', 'Ambulances'...   \n",
       "498  'police', 'guild', 'philanthropy', 'Ireland', ...   \n",
       "499  'Partial discharges', 'Antenna arrays', 'Log p...   \n",
       "\n",
       "                                          projects_url  \\\n",
       "0    https://pure.hud.ac.uk/en/persons/paul-abba/pr...   \n",
       "1    https://pure.hud.ac.uk/en/persons/andrew-adams...   \n",
       "2    https://pure.hud.ac.uk/en/persons/karen-adams/...   \n",
       "3    https://pure.hud.ac.uk/en/persons/kweku-adams/...   \n",
       "4    https://pure.hud.ac.uk/en/persons/katie-addina...   \n",
       "..                                                 ...   \n",
       "495  https://pure.hud.ac.uk/en/persons/kate-lavende...   \n",
       "496  https://pure.hud.ac.uk/en/persons/andrew-laws/...   \n",
       "497  https://pure.hud.ac.uk/en/persons/daniel-lawto...   \n",
       "498  https://pure.hud.ac.uk/en/persons/keith-laybou...   \n",
       "499  https://pure.hud.ac.uk/en/persons/pavlos-lazar...   \n",
       "\n",
       "                                          project_info  \n",
       "0                                                   []  \n",
       "1                                                   []  \n",
       "2                                                   []  \n",
       "3                                                   []  \n",
       "4                                                   []  \n",
       "..                                                 ...  \n",
       "495                                                 []  \n",
       "496  [[Isolation and characterization of industrial...  \n",
       "497                                                 []  \n",
       "498                                                 []  \n",
       "499                                                 []  \n",
       "\n",
       "[500 rows x 11 columns]"
      ]
     },
     "execution_count": 16,
     "metadata": {},
     "output_type": "execute_result"
    }
   ],
   "source": [
    "prof_df = pd.DataFrame(prof_data, columns= ['profile_url', 'image_url', 'full_name', 'department', 'university', 'contact', 'email', 'fingerprints_url', 'research_topic', 'projects_url', 'project_info'])\n",
    "\n",
    "prof_df.to_csv (r'C:\\\\Users\\\\Saurabh\\\\Desktop\\\\IR\\\\Shruti\\\\new\\\\Docs csv etc\\\\hudder_uni_df.csv', index = False, header=True)\n",
    "\n",
    "prof_df"
   ]
  },
  {
   "cell_type": "code",
   "execution_count": null,
   "metadata": {},
   "outputs": [],
   "source": []
  }
 ],
 "metadata": {
  "kernelspec": {
   "display_name": "Python 3",
   "language": "python",
   "name": "python3"
  },
  "language_info": {
   "codemirror_mode": {
    "name": "ipython",
    "version": 3
   },
   "file_extension": ".py",
   "mimetype": "text/x-python",
   "name": "python",
   "nbconvert_exporter": "python",
   "pygments_lexer": "ipython3",
   "version": "3.7.6"
  }
 },
 "nbformat": 4,
 "nbformat_minor": 4
}
