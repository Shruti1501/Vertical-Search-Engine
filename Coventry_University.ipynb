{
 "cells": [
  {
   "cell_type": "code",
   "execution_count": 8,
   "metadata": {},
   "outputs": [],
   "source": [
    "import pandas as pd\n",
    "import numpy as np\n",
    "import matplotlib.pyplot as plt\n",
    "import seaborn as sns\n",
    "%matplotlib inline\n",
    "from urllib.request import urlopen\n",
    "from bs4 import BeautifulSoup\n",
    "import datetime\n",
    "import unicodedata\n",
    "import time\n",
    "from tqdm import tqdm\n",
    "import re\n",
    "import sys\n",
    "import requests\n",
    "import warnings\n",
    "import pandas as pd\n",
    "\n",
    "from time import sleep\n",
    "from copy import deepcopy\n",
    "from tqdm import tqdm_notebook as tqdm\n",
    "from IPython.display import Markdown, display"
   ]
  },
  {
   "cell_type": "code",
   "execution_count": 9,
   "metadata": {},
   "outputs": [
    {
     "name": "stdout",
     "output_type": "stream",
     "text": [
      "Time of Crawl: 2020-07-29\n"
     ]
    }
   ],
   "source": [
    "# Print Timestamp At time of crawl\n",
    "datePosted = str(datetime.date.today())\n",
    "print('Time of Crawl: ' + datePosted)"
   ]
  },
  {
   "cell_type": "code",
   "execution_count": 10,
   "metadata": {},
   "outputs": [
    {
     "data": {
      "text/markdown": [
       "<span style='font-family:courier;color:red;font-size:115%;' >**--> Libraries Imported Successfully.**</span>"
      ],
      "text/plain": [
       "<IPython.core.display.Markdown object>"
      ]
     },
     "metadata": {},
     "output_type": "display_data"
    }
   ],
   "source": [
    "warnings.filterwarnings('ignore')\n",
    "\n",
    "def printmd(string):\n",
    "    display(Markdown(string))\n",
    "\n",
    "printmd(\"<span style='font-family:courier;color:red;font-size:115%;' >**--> Libraries Imported Successfully.**</span>\")"
   ]
  },
  {
   "cell_type": "code",
   "execution_count": 11,
   "metadata": {},
   "outputs": [
    {
     "name": "stdout",
     "output_type": "stream",
     "text": [
      "\n",
      "===========================\n",
      "Fetching University Page(s) :\n",
      "===========================\n"
     ]
    },
    {
     "data": {
      "application/vnd.jupyter.widget-view+json": {
       "model_id": "4f4bb06be43b44f3b2277bde571c3c7e",
       "version_major": 2,
       "version_minor": 0
      },
      "text/plain": [
       "HBox(children=(FloatProgress(value=0.0, max=10.0), HTML(value='')))"
      ]
     },
     "metadata": {},
     "output_type": "display_data"
    },
    {
     "name": "stdout",
     "output_type": "stream",
     "text": [
      "\n"
     ]
    },
    {
     "data": {
      "text/markdown": [
       "<span style='font-family:courier;color:red;font-size:115%;' > **--> There are Total 10 university page(s) found, each page(s) contains 50 researchers profile links.**</span>"
      ],
      "text/plain": [
       "<IPython.core.display.Markdown object>"
      ]
     },
     "metadata": {},
     "output_type": "display_data"
    }
   ],
   "source": [
    "print(\"\\n===========================\")\n",
    "print(\"Fetching University Page(s) :\")\n",
    "print(\"===========================\")\n",
    "\n",
    "base_url = 'https://pureportal.coventry.ac.uk/en/persons/?format='\n",
    "\n",
    "total_pages = 10\n",
    "\n",
    "uni_urls = []\n",
    "\n",
    "for x in tqdm(range(total_pages)):\n",
    "    uni_urls.append(base_url+str(x))\n",
    "    \n",
    "no_of_profiles = total_pages*50\n",
    "    \n",
    "printmd(\"<span style='font-family:courier;color:red;font-size:115%;' > **--> There are Total \"+str(total_pages)+\" university page(s) found, each page(s) contains 50 researchers profile links.**</span>\")"
   ]
  },
  {
   "cell_type": "code",
   "execution_count": 12,
   "metadata": {
    "scrolled": true
   },
   "outputs": [
    {
     "name": "stdout",
     "output_type": "stream",
     "text": [
      "\n",
      "================================\n",
      "Fetching links of All Profiles : \n",
      "================================\n"
     ]
    },
    {
     "data": {
      "application/vnd.jupyter.widget-view+json": {
       "model_id": "671eb86fcc474bf388e27b3f628f4f1f",
       "version_major": 2,
       "version_minor": 0
      },
      "text/plain": [
       "HBox(children=(FloatProgress(value=0.0, max=10.0), HTML(value='')))"
      ]
     },
     "metadata": {},
     "output_type": "display_data"
    },
    {
     "name": "stdout",
     "output_type": "stream",
     "text": [
      "\n"
     ]
    },
    {
     "data": {
      "text/markdown": [
       "<span style='font-family:courier;color:red;font-size:115%;' > **--> Total 500  Numbers of Researchers Profile Found.**</span>"
      ],
      "text/plain": [
       "<IPython.core.display.Markdown object>"
      ]
     },
     "metadata": {},
     "output_type": "display_data"
    }
   ],
   "source": [
    "print(\"\\n================================\")\n",
    "print(\"Fetching links of All Profiles : \")\n",
    "print(\"================================\")\n",
    "\n",
    "prof_links = []\n",
    "\n",
    "for uni_url in tqdm(uni_urls):\n",
    "    request = requests.get(uni_url)\n",
    "    soup = BeautifulSoup(request.content, 'html.parser')    \n",
    "    result_grid = soup.find('section', { \"class\" : \"grid-results\"})\n",
    "    \n",
    "    for a in result_grid.find_all('a', { \"class\" : \"link person\" }, href=True):\n",
    "        prof_links.append(a['href'])\n",
    "\n",
    "\n",
    "printmd(\"<span style='font-family:courier;color:red;font-size:115%;' > **--> Total \"+str(len(prof_links))+\"  Numbers of Researchers Profile Found.**</span>\")"
   ]
  },
  {
   "cell_type": "code",
   "execution_count": 13,
   "metadata": {},
   "outputs": [
    {
     "name": "stdout",
     "output_type": "stream",
     "text": [
      "\n",
      "=====================================\n",
      "Fetching Details of Each Researcher : \n",
      "=====================================\n"
     ]
    },
    {
     "data": {
      "application/vnd.jupyter.widget-view+json": {
       "model_id": "5400685ec34f44f8b3d92aaccef583cf",
       "version_major": 2,
       "version_minor": 0
      },
      "text/plain": [
       "HBox(children=(FloatProgress(value=0.0, max=500.0), HTML(value='')))"
      ]
     },
     "metadata": {},
     "output_type": "display_data"
    },
    {
     "name": "stdout",
     "output_type": "stream",
     "text": [
      "\n"
     ]
    },
    {
     "data": {
      "text/markdown": [
       "<span style='font-family:courier;color:green;font-size:115%;' > **--> Profile Details of 500 Researchers fetched Successfully.**</span>"
      ],
      "text/plain": [
       "<IPython.core.display.Markdown object>"
      ]
     },
     "metadata": {},
     "output_type": "display_data"
    }
   ],
   "source": [
    "print(\"\\n=====================================\")\n",
    "print(\"Fetching Details of Each Researcher : \")\n",
    "print(\"=====================================\")\n",
    "\n",
    "#prof_link = ['https://research-information.bris.ac.uk/en/persons/david-w-f-abbott', 'https://research-information.bris.ac.uk/en/persons/ana-paula-abdala-sheikh', 'https://research-information.bris.ac.uk/en/persons/zeina-abdallah']\n",
    "\n",
    "prof_data = []\n",
    "\n",
    "\n",
    "for row in tqdm(prof_links):\n",
    "    prof_request = requests.get(row)\n",
    "    prof_soup = BeautifulSoup(prof_request.content, 'html.parser')\n",
    "    prof_grid = prof_soup.find('div', { \"class\" : \"profile\"})\n",
    "    \n",
    "    info = dict()\n",
    "    prof_info = []\n",
    "    \n",
    "    info['url'] = row if row else \"-\"\n",
    "    info['image_url'] = \"https://pureportal.coventry.ac.uk//\"+prof_grid.find('img').attrs['src'] if prof_grid.find('img').attrs['src'] else \"-\"\n",
    "    info['name'] = prof_grid.select_one('.person-details h1').text.strip() if prof_grid.select_one('.person-details h1') else \"-\"\n",
    "    info['department'] = prof_grid.select_one('ul li a').text.strip() if prof_grid.select_one('ul li a') else \"-\"\n",
    "    info['university'] = \"Coventry University\"\n",
    "    info['phone'] = prof_grid.select_one('.phones .description').text.strip() if prof_grid.select_one('.phones .description') else \"-\"\n",
    "    info['email'] = prof_grid.select_one('.emails .description').text.strip() if prof_grid.select_one('.emails .description') else \"-\"\n",
    "    info['fingerprints_url'] = row+\"/fingerprints\" if row else \"-\"\n",
    "    info['projects_url'] = row+\"/projects\" if row else \"-\"\n",
    "    \n",
    "    prof_info.append(info[\"url\"])\n",
    "    prof_info.append(info[\"image_url\"])\n",
    "    prof_info.append(info[\"name\"])\n",
    "    prof_info.append(info[\"department\"])\n",
    "    prof_info.append(info[\"university\"])\n",
    "    prof_info.append(info[\"phone\"])\n",
    "    prof_info.append(info[\"email\"])\n",
    "    \n",
    "    ##########################\n",
    "    \n",
    "    prof_info.append(info[\"fingerprints_url\"])\n",
    "    \n",
    "    fingerprint_request = requests.get(info[\"fingerprints_url\"])\n",
    "    fingerprint_soup = BeautifulSoup(fingerprint_request.content, 'html.parser')    \n",
    "    fingerprint_grid = fingerprint_soup.find('div', { \"class\" : \"person-fingerprints\"})\n",
    "    \n",
    "    prof_research = []\n",
    "    \n",
    "    for research in fingerprint_soup.find_all('span', { \"class\" : \"concept\" }):\n",
    "        prof_research.append(research.text)\n",
    "    \n",
    "    prof_info.append(str(prof_research)[1:-1])\n",
    "    \n",
    "    ##########################\n",
    "    \n",
    "    prof_info.append(info[\"projects_url\"])\n",
    "    \n",
    "    project_request = requests.get(info[\"projects_url\"])\n",
    "    project_soup = BeautifulSoup(project_request.content, 'html.parser')    \n",
    "    project_grid = project_soup.find('section', { \"class\" : \"list-results\"})\n",
    "\n",
    "    prof_all_project = []\n",
    "    \n",
    "    for a in project_grid.find_all('div', { \"class\" : \"result-container\" }):\n",
    "\n",
    "        proj_info = dict()\n",
    "        \n",
    "        proj_info['title'] = a.select_one('.title').text.strip() if a.select_one('.title') else \"-\"\n",
    "        proj_info['person'] = a.select_one('p span').text.strip() if a.select_one('p span') else \"-\"\n",
    "        proj_info['fundings'] = a.select_one('.fundings').text.strip() if a.select_one('.fundings') else \"-\"\n",
    "        proj_info['period'] = a.select_one('.period').text.strip() if a.select_one('.period') else \"-\"\n",
    "        proj_info['type'] = a.select_one('.type_classification').text.strip() if a.select_one('.type_classification') else \"-\"\n",
    "\n",
    "        prof_proj = []\n",
    "        \n",
    "        prof_proj.append(proj_info['title'])\n",
    "        prof_proj.append(proj_info['person'])\n",
    "        prof_proj.append(proj_info['fundings'])\n",
    "        prof_proj.append(proj_info['period'])\n",
    "        prof_proj.append(proj_info['type'])\n",
    "        \n",
    "        prof_all_project.append(prof_proj)\n",
    "    \n",
    "    prof_info.append(prof_all_project)\n",
    "    \n",
    "    ##########################\n",
    "    \n",
    "    \n",
    "    prof_data.append(prof_info)\n",
    "    \n",
    "\n",
    "#print(prof_info)\n",
    "#print(prof_data)\n",
    "\n",
    "printmd(\"<span style='font-family:courier;color:green;font-size:115%;' > **--> Profile Details of \"+str(len(prof_links))+\" Researchers fetched Successfully.**</span>\")"
   ]
  },
  {
   "cell_type": "code",
   "execution_count": 14,
   "metadata": {},
   "outputs": [
    {
     "data": {
      "text/html": [
       "<div>\n",
       "<style scoped>\n",
       "    .dataframe tbody tr th:only-of-type {\n",
       "        vertical-align: middle;\n",
       "    }\n",
       "\n",
       "    .dataframe tbody tr th {\n",
       "        vertical-align: top;\n",
       "    }\n",
       "\n",
       "    .dataframe thead th {\n",
       "        text-align: right;\n",
       "    }\n",
       "</style>\n",
       "<table border=\"1\" class=\"dataframe\">\n",
       "  <thead>\n",
       "    <tr style=\"text-align: right;\">\n",
       "      <th></th>\n",
       "      <th>profile_url</th>\n",
       "      <th>image_url</th>\n",
       "      <th>full_name</th>\n",
       "      <th>department</th>\n",
       "      <th>university</th>\n",
       "      <th>contact</th>\n",
       "      <th>email</th>\n",
       "      <th>fingerprints_url</th>\n",
       "      <th>research_topic</th>\n",
       "      <th>projects_url</th>\n",
       "      <th>project_info</th>\n",
       "    </tr>\n",
       "  </thead>\n",
       "  <tbody>\n",
       "    <tr>\n",
       "      <th>0</th>\n",
       "      <td>https://pureportal.coventry.ac.uk/en/persons/m...</td>\n",
       "      <td>https://pureportal.coventry.ac.uk///files-asse...</td>\n",
       "      <td>Mai Abbas</td>\n",
       "      <td>Centre for Agroecology, Water and Resilience</td>\n",
       "      <td>Coventry University</td>\n",
       "      <td>-</td>\n",
       "      <td>ad1212@coventry.ac.uk</td>\n",
       "      <td>https://pureportal.coventry.ac.uk/en/persons/m...</td>\n",
       "      <td>'food', 'research interest', 'health', 'sovere...</td>\n",
       "      <td>https://pureportal.coventry.ac.uk/en/persons/m...</td>\n",
       "      <td>[]</td>\n",
       "    </tr>\n",
       "    <tr>\n",
       "      <th>1</th>\n",
       "      <td>https://pureportal.coventry.ac.uk/en/persons/m...</td>\n",
       "      <td>https://pureportal.coventry.ac.uk///assets/no-...</td>\n",
       "      <td>Mohammadreza Abbassi Monjezi</td>\n",
       "      <td>Institute for Future Transport and Cities</td>\n",
       "      <td>Coventry University</td>\n",
       "      <td>-</td>\n",
       "      <td>abbassim@coventry.ac.uk</td>\n",
       "      <td>https://pureportal.coventry.ac.uk/en/persons/m...</td>\n",
       "      <td></td>\n",
       "      <td>https://pureportal.coventry.ac.uk/en/persons/m...</td>\n",
       "      <td>[]</td>\n",
       "    </tr>\n",
       "    <tr>\n",
       "      <th>2</th>\n",
       "      <td>https://pureportal.coventry.ac.uk/en/persons/m...</td>\n",
       "      <td>https://pureportal.coventry.ac.uk///files-asse...</td>\n",
       "      <td>Mohsen Abbaszadeh</td>\n",
       "      <td>Faculty Research Centre in Fluid and Complex S...</td>\n",
       "      <td>Coventry University</td>\n",
       "      <td>-</td>\n",
       "      <td>abbaszam@coventry.ac.uk</td>\n",
       "      <td>https://pureportal.coventry.ac.uk/en/persons/m...</td>\n",
       "      <td>'Solubility', 'Aquifers', 'Wetting', 'Temperat...</td>\n",
       "      <td>https://pureportal.coventry.ac.uk/en/persons/m...</td>\n",
       "      <td>[]</td>\n",
       "    </tr>\n",
       "    <tr>\n",
       "      <th>3</th>\n",
       "      <td>https://pureportal.coventry.ac.uk/en/persons/m...</td>\n",
       "      <td>https://pureportal.coventry.ac.uk///files-asse...</td>\n",
       "      <td>Meryem Abdelhafid</td>\n",
       "      <td>Centre for Trust, Peace and Social Relations</td>\n",
       "      <td>Coventry University</td>\n",
       "      <td>-</td>\n",
       "      <td>abdelha4@coventry.ac.uk</td>\n",
       "      <td>https://pureportal.coventry.ac.uk/en/persons/m...</td>\n",
       "      <td>'Algerian', 'feminism', 'Religion', 'migration...</td>\n",
       "      <td>https://pureportal.coventry.ac.uk/en/persons/m...</td>\n",
       "      <td>[]</td>\n",
       "    </tr>\n",
       "    <tr>\n",
       "      <th>4</th>\n",
       "      <td>https://pureportal.coventry.ac.uk/en/persons/m...</td>\n",
       "      <td>https://pureportal.coventry.ac.uk///assets/no-...</td>\n",
       "      <td>Mohamed Abdelshafy</td>\n",
       "      <td>School of Computing, Electronics and Maths</td>\n",
       "      <td>Coventry University</td>\n",
       "      <td>-</td>\n",
       "      <td>ad0270@coventry.ac.uk</td>\n",
       "      <td>https://pureportal.coventry.ac.uk/en/persons/m...</td>\n",
       "      <td>'Routing protocols', 'Network protocols', 'Net...</td>\n",
       "      <td>https://pureportal.coventry.ac.uk/en/persons/m...</td>\n",
       "      <td>[]</td>\n",
       "    </tr>\n",
       "    <tr>\n",
       "      <th>...</th>\n",
       "      <td>...</td>\n",
       "      <td>...</td>\n",
       "      <td>...</td>\n",
       "      <td>...</td>\n",
       "      <td>...</td>\n",
       "      <td>...</td>\n",
       "      <td>...</td>\n",
       "      <td>...</td>\n",
       "      <td>...</td>\n",
       "      <td>...</td>\n",
       "      <td>...</td>\n",
       "    </tr>\n",
       "    <tr>\n",
       "      <th>495</th>\n",
       "      <td>https://pureportal.coventry.ac.uk/en/persons/s...</td>\n",
       "      <td>https://pureportal.coventry.ac.uk///assets/no-...</td>\n",
       "      <td>Sarah Nnenna Aideyan</td>\n",
       "      <td>School of Marketing and Management</td>\n",
       "      <td>Coventry University</td>\n",
       "      <td>-</td>\n",
       "      <td>ordus@coventry.ac.uk</td>\n",
       "      <td>https://pureportal.coventry.ac.uk/en/persons/s...</td>\n",
       "      <td></td>\n",
       "      <td>https://pureportal.coventry.ac.uk/en/persons/s...</td>\n",
       "      <td>[]</td>\n",
       "    </tr>\n",
       "    <tr>\n",
       "      <th>496</th>\n",
       "      <td>https://pureportal.coventry.ac.uk/en/persons/n...</td>\n",
       "      <td>https://pureportal.coventry.ac.uk///assets/no-...</td>\n",
       "      <td>Nurudeen Aigoro</td>\n",
       "      <td>Institute for Future Transport and Cities</td>\n",
       "      <td>Coventry University</td>\n",
       "      <td>-</td>\n",
       "      <td>aigoron@coventry.ac.uk</td>\n",
       "      <td>https://pureportal.coventry.ac.uk/en/persons/n...</td>\n",
       "      <td></td>\n",
       "      <td>https://pureportal.coventry.ac.uk/en/persons/n...</td>\n",
       "      <td>[]</td>\n",
       "    </tr>\n",
       "    <tr>\n",
       "      <th>497</th>\n",
       "      <td>https://pureportal.coventry.ac.uk/en/persons/t...</td>\n",
       "      <td>https://pureportal.coventry.ac.uk///assets/no-...</td>\n",
       "      <td>Toluwanimi Akaehomen</td>\n",
       "      <td>School of Marketing and Management</td>\n",
       "      <td>Coventry University</td>\n",
       "      <td>-</td>\n",
       "      <td>akaehoment@coventry.ac.uk</td>\n",
       "      <td>https://pureportal.coventry.ac.uk/en/persons/t...</td>\n",
       "      <td></td>\n",
       "      <td>https://pureportal.coventry.ac.uk/en/persons/t...</td>\n",
       "      <td>[]</td>\n",
       "    </tr>\n",
       "    <tr>\n",
       "      <th>498</th>\n",
       "      <td>https://pureportal.coventry.ac.uk/en/persons/e...</td>\n",
       "      <td>https://pureportal.coventry.ac.uk///assets/no-...</td>\n",
       "      <td>Emre Akgun</td>\n",
       "      <td>Institute for Future Transport and Cities</td>\n",
       "      <td>Coventry University</td>\n",
       "      <td>-</td>\n",
       "      <td>akgune@coventry.ac.uk</td>\n",
       "      <td>https://pureportal.coventry.ac.uk/en/persons/e...</td>\n",
       "      <td></td>\n",
       "      <td>https://pureportal.coventry.ac.uk/en/persons/e...</td>\n",
       "      <td>[]</td>\n",
       "    </tr>\n",
       "    <tr>\n",
       "      <th>499</th>\n",
       "      <td>https://pureportal.coventry.ac.uk/en/persons/s...</td>\n",
       "      <td>https://pureportal.coventry.ac.uk///files-asse...</td>\n",
       "      <td>Sanam Akhavannasab</td>\n",
       "      <td>School of Marketing and Management</td>\n",
       "      <td>Coventry University</td>\n",
       "      <td>-</td>\n",
       "      <td>ad1259@coventry.ac.uk</td>\n",
       "      <td>https://pureportal.coventry.ac.uk/en/persons/s...</td>\n",
       "      <td>'esthetics', 'energy efficiency', 'energy', 'm...</td>\n",
       "      <td>https://pureportal.coventry.ac.uk/en/persons/s...</td>\n",
       "      <td>[]</td>\n",
       "    </tr>\n",
       "  </tbody>\n",
       "</table>\n",
       "<p>500 rows × 11 columns</p>\n",
       "</div>"
      ],
      "text/plain": [
       "                                           profile_url  \\\n",
       "0    https://pureportal.coventry.ac.uk/en/persons/m...   \n",
       "1    https://pureportal.coventry.ac.uk/en/persons/m...   \n",
       "2    https://pureportal.coventry.ac.uk/en/persons/m...   \n",
       "3    https://pureportal.coventry.ac.uk/en/persons/m...   \n",
       "4    https://pureportal.coventry.ac.uk/en/persons/m...   \n",
       "..                                                 ...   \n",
       "495  https://pureportal.coventry.ac.uk/en/persons/s...   \n",
       "496  https://pureportal.coventry.ac.uk/en/persons/n...   \n",
       "497  https://pureportal.coventry.ac.uk/en/persons/t...   \n",
       "498  https://pureportal.coventry.ac.uk/en/persons/e...   \n",
       "499  https://pureportal.coventry.ac.uk/en/persons/s...   \n",
       "\n",
       "                                             image_url  \\\n",
       "0    https://pureportal.coventry.ac.uk///files-asse...   \n",
       "1    https://pureportal.coventry.ac.uk///assets/no-...   \n",
       "2    https://pureportal.coventry.ac.uk///files-asse...   \n",
       "3    https://pureportal.coventry.ac.uk///files-asse...   \n",
       "4    https://pureportal.coventry.ac.uk///assets/no-...   \n",
       "..                                                 ...   \n",
       "495  https://pureportal.coventry.ac.uk///assets/no-...   \n",
       "496  https://pureportal.coventry.ac.uk///assets/no-...   \n",
       "497  https://pureportal.coventry.ac.uk///assets/no-...   \n",
       "498  https://pureportal.coventry.ac.uk///assets/no-...   \n",
       "499  https://pureportal.coventry.ac.uk///files-asse...   \n",
       "\n",
       "                        full_name  \\\n",
       "0                       Mai Abbas   \n",
       "1    Mohammadreza Abbassi Monjezi   \n",
       "2               Mohsen Abbaszadeh   \n",
       "3               Meryem Abdelhafid   \n",
       "4              Mohamed Abdelshafy   \n",
       "..                            ...   \n",
       "495          Sarah Nnenna Aideyan   \n",
       "496               Nurudeen Aigoro   \n",
       "497          Toluwanimi Akaehomen   \n",
       "498                    Emre Akgun   \n",
       "499            Sanam Akhavannasab   \n",
       "\n",
       "                                            department           university  \\\n",
       "0         Centre for Agroecology, Water and Resilience  Coventry University   \n",
       "1            Institute for Future Transport and Cities  Coventry University   \n",
       "2    Faculty Research Centre in Fluid and Complex S...  Coventry University   \n",
       "3         Centre for Trust, Peace and Social Relations  Coventry University   \n",
       "4           School of Computing, Electronics and Maths  Coventry University   \n",
       "..                                                 ...                  ...   \n",
       "495                 School of Marketing and Management  Coventry University   \n",
       "496          Institute for Future Transport and Cities  Coventry University   \n",
       "497                 School of Marketing and Management  Coventry University   \n",
       "498          Institute for Future Transport and Cities  Coventry University   \n",
       "499                 School of Marketing and Management  Coventry University   \n",
       "\n",
       "    contact                      email  \\\n",
       "0         -      ad1212@coventry.ac.uk   \n",
       "1         -    abbassim@coventry.ac.uk   \n",
       "2         -    abbaszam@coventry.ac.uk   \n",
       "3         -    abdelha4@coventry.ac.uk   \n",
       "4         -      ad0270@coventry.ac.uk   \n",
       "..      ...                        ...   \n",
       "495       -       ordus@coventry.ac.uk   \n",
       "496       -     aigoron@coventry.ac.uk   \n",
       "497       -  akaehoment@coventry.ac.uk   \n",
       "498       -      akgune@coventry.ac.uk   \n",
       "499       -      ad1259@coventry.ac.uk   \n",
       "\n",
       "                                      fingerprints_url  \\\n",
       "0    https://pureportal.coventry.ac.uk/en/persons/m...   \n",
       "1    https://pureportal.coventry.ac.uk/en/persons/m...   \n",
       "2    https://pureportal.coventry.ac.uk/en/persons/m...   \n",
       "3    https://pureportal.coventry.ac.uk/en/persons/m...   \n",
       "4    https://pureportal.coventry.ac.uk/en/persons/m...   \n",
       "..                                                 ...   \n",
       "495  https://pureportal.coventry.ac.uk/en/persons/s...   \n",
       "496  https://pureportal.coventry.ac.uk/en/persons/n...   \n",
       "497  https://pureportal.coventry.ac.uk/en/persons/t...   \n",
       "498  https://pureportal.coventry.ac.uk/en/persons/e...   \n",
       "499  https://pureportal.coventry.ac.uk/en/persons/s...   \n",
       "\n",
       "                                        research_topic  \\\n",
       "0    'food', 'research interest', 'health', 'sovere...   \n",
       "1                                                        \n",
       "2    'Solubility', 'Aquifers', 'Wetting', 'Temperat...   \n",
       "3    'Algerian', 'feminism', 'Religion', 'migration...   \n",
       "4    'Routing protocols', 'Network protocols', 'Net...   \n",
       "..                                                 ...   \n",
       "495                                                      \n",
       "496                                                      \n",
       "497                                                      \n",
       "498                                                      \n",
       "499  'esthetics', 'energy efficiency', 'energy', 'm...   \n",
       "\n",
       "                                          projects_url project_info  \n",
       "0    https://pureportal.coventry.ac.uk/en/persons/m...           []  \n",
       "1    https://pureportal.coventry.ac.uk/en/persons/m...           []  \n",
       "2    https://pureportal.coventry.ac.uk/en/persons/m...           []  \n",
       "3    https://pureportal.coventry.ac.uk/en/persons/m...           []  \n",
       "4    https://pureportal.coventry.ac.uk/en/persons/m...           []  \n",
       "..                                                 ...          ...  \n",
       "495  https://pureportal.coventry.ac.uk/en/persons/s...           []  \n",
       "496  https://pureportal.coventry.ac.uk/en/persons/n...           []  \n",
       "497  https://pureportal.coventry.ac.uk/en/persons/t...           []  \n",
       "498  https://pureportal.coventry.ac.uk/en/persons/e...           []  \n",
       "499  https://pureportal.coventry.ac.uk/en/persons/s...           []  \n",
       "\n",
       "[500 rows x 11 columns]"
      ]
     },
     "execution_count": 14,
     "metadata": {},
     "output_type": "execute_result"
    }
   ],
   "source": [
    "prof_df = pd.DataFrame(prof_data, columns= ['profile_url', 'image_url', 'full_name', 'department', 'university', 'contact', 'email', 'fingerprints_url', 'research_topic', 'projects_url', 'project_info'])\n",
    "\n",
    "prof_df.to_csv (r'C:\\\\Users\\\\Saurabh\\\\Desktop\\\\IR\\\\Shruti\\\\new\\\\Docs csv etc\\\\coventry_uni_df.csv', index = False, header=True)\n",
    "\n",
    "prof_df"
   ]
  },
  {
   "cell_type": "code",
   "execution_count": null,
   "metadata": {},
   "outputs": [],
   "source": []
  }
 ],
 "metadata": {
  "kernelspec": {
   "display_name": "Python 3",
   "language": "python",
   "name": "python3"
  },
  "language_info": {
   "codemirror_mode": {
    "name": "ipython",
    "version": 3
   },
   "file_extension": ".py",
   "mimetype": "text/x-python",
   "name": "python",
   "nbconvert_exporter": "python",
   "pygments_lexer": "ipython3",
   "version": "3.7.6"
  }
 },
 "nbformat": 4,
 "nbformat_minor": 4
}
