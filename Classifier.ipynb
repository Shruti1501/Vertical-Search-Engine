{
 "cells": [
  {
   "cell_type": "markdown",
   "metadata": {},
   "source": [
    "#  Text Classification"
   ]
  },
  {
   "cell_type": "code",
   "execution_count": 1,
   "metadata": {},
   "outputs": [],
   "source": [
    "#import\n",
    "import numpy as np\n",
    "from sklearn.feature_extraction.text import CountVectorizer\n",
    "from sklearn.pipeline import Pipeline\n",
    "from sklearn.linear_model import LogisticRegression\n",
    "from joblib import dump, load\n",
    "from sklearn.naive_bayes import MultinomialNB\n",
    "from sklearn.linear_model import RidgeClassifier\n",
    "from xgboost.sklearn import XGBClassifier\n",
    "import numpy as np\n",
    "import pandas as pd\n",
    "import os\n",
    "from sklearn.feature_extraction.text import TfidfVectorizer\n",
    "from sklearn.model_selection import KFold, cross_validate, train_test_split\n",
    "from sklearn.pipeline import Pipeline"
   ]
  },
  {
   "cell_type": "code",
   "execution_count": 2,
   "metadata": {},
   "outputs": [
    {
     "data": {
      "text/html": [
       "<div>\n",
       "<style scoped>\n",
       "    .dataframe tbody tr th:only-of-type {\n",
       "        vertical-align: middle;\n",
       "    }\n",
       "\n",
       "    .dataframe tbody tr th {\n",
       "        vertical-align: top;\n",
       "    }\n",
       "\n",
       "    .dataframe thead th {\n",
       "        text-align: right;\n",
       "    }\n",
       "</style>\n",
       "<table border=\"1\" class=\"dataframe\">\n",
       "  <thead>\n",
       "    <tr style=\"text-align: right;\">\n",
       "      <th></th>\n",
       "      <th>research_topic</th>\n",
       "      <th>department</th>\n",
       "    </tr>\n",
       "  </thead>\n",
       "  <tbody>\n",
       "    <tr>\n",
       "      <th>0</th>\n",
       "      <td>'sociology', 'pedagogics', 'university', 'soci...</td>\n",
       "      <td>Department of Education</td>\n",
       "    </tr>\n",
       "    <tr>\n",
       "      <th>1</th>\n",
       "      <td>'pedagogics', 'Teaching', 'candidacy', 'educat...</td>\n",
       "      <td>Department of Social &amp; Policy Sciences</td>\n",
       "    </tr>\n",
       "    <tr>\n",
       "      <th>2</th>\n",
       "      <td>'orange juice', 'phytosterols', 'fouling', 'ul...</td>\n",
       "      <td>Department of Chemical Engineering</td>\n",
       "    </tr>\n",
       "  </tbody>\n",
       "</table>\n",
       "</div>"
      ],
      "text/plain": [
       "                                      research_topic  \\\n",
       "0  'sociology', 'pedagogics', 'university', 'soci...   \n",
       "1  'pedagogics', 'Teaching', 'candidacy', 'educat...   \n",
       "2  'orange juice', 'phytosterols', 'fouling', 'ul...   \n",
       "\n",
       "                               department  \n",
       "0                 Department of Education  \n",
       "1  Department of Social & Policy Sciences  \n",
       "2      Department of Chemical Engineering  "
      ]
     },
     "execution_count": 2,
     "metadata": {},
     "output_type": "execute_result"
    }
   ],
   "source": [
    "class_data_df = pd.read_csv(\"all_uni_df.csv\")[['research_topic','department',]]\n",
    "class_data_df.head(3)"
   ]
  },
  {
   "cell_type": "code",
   "execution_count": 3,
   "metadata": {},
   "outputs": [
    {
     "data": {
      "text/html": [
       "<div>\n",
       "<style scoped>\n",
       "    .dataframe tbody tr th:only-of-type {\n",
       "        vertical-align: middle;\n",
       "    }\n",
       "\n",
       "    .dataframe tbody tr th {\n",
       "        vertical-align: top;\n",
       "    }\n",
       "\n",
       "    .dataframe thead th {\n",
       "        text-align: right;\n",
       "    }\n",
       "</style>\n",
       "<table border=\"1\" class=\"dataframe\">\n",
       "  <thead>\n",
       "    <tr style=\"text-align: right;\">\n",
       "      <th></th>\n",
       "      <th>research_topic</th>\n",
       "      <th>department</th>\n",
       "    </tr>\n",
       "  </thead>\n",
       "  <tbody>\n",
       "    <tr>\n",
       "      <th>0</th>\n",
       "      <td>'sociology', 'pedagogics', 'university', 'soci...</td>\n",
       "      <td>Education</td>\n",
       "    </tr>\n",
       "    <tr>\n",
       "      <th>2</th>\n",
       "      <td>'orange juice', 'phytosterols', 'fouling', 'ul...</td>\n",
       "      <td>Engineering</td>\n",
       "    </tr>\n",
       "    <tr>\n",
       "      <th>3</th>\n",
       "      <td>'Feedstocks', 'Biomass', 'Fermentation', 'Econ...</td>\n",
       "      <td>Engineering</td>\n",
       "    </tr>\n",
       "    <tr>\n",
       "      <th>4</th>\n",
       "      <td>'Terminator Codon', 'Codon', 'Permethrin', 'Ba...</td>\n",
       "      <td>Medical</td>\n",
       "    </tr>\n",
       "    <tr>\n",
       "      <th>5</th>\n",
       "      <td>'Neurons', 'Specifications', 'Silicon', 'Netwo...</td>\n",
       "      <td>Science and Technology</td>\n",
       "    </tr>\n",
       "    <tr>\n",
       "      <th>...</th>\n",
       "      <td>...</td>\n",
       "      <td>...</td>\n",
       "    </tr>\n",
       "    <tr>\n",
       "      <th>995</th>\n",
       "      <td>'China', 'Uncertainty', 'Volatility spillover'...</td>\n",
       "      <td>Finance</td>\n",
       "    </tr>\n",
       "    <tr>\n",
       "      <th>996</th>\n",
       "      <td>'employability', 'education', 'experience', 'l...</td>\n",
       "      <td>Education</td>\n",
       "    </tr>\n",
       "    <tr>\n",
       "      <th>997</th>\n",
       "      <td>'Lactams', 'Hydrolysis', 'Acids', 'Polysacchar...</td>\n",
       "      <td>Science and Technology</td>\n",
       "    </tr>\n",
       "    <tr>\n",
       "      <th>998</th>\n",
       "      <td>'Out-of-Hospital Cardiac Arrest', 'Ambulances'...</td>\n",
       "      <td>Medical</td>\n",
       "    </tr>\n",
       "    <tr>\n",
       "      <th>1000</th>\n",
       "      <td>'Partial discharges', 'Antenna arrays', 'Log p...</td>\n",
       "      <td>Engineering</td>\n",
       "    </tr>\n",
       "  </tbody>\n",
       "</table>\n",
       "<p>749 rows × 2 columns</p>\n",
       "</div>"
      ],
      "text/plain": [
       "                                         research_topic  \\\n",
       "0     'sociology', 'pedagogics', 'university', 'soci...   \n",
       "2     'orange juice', 'phytosterols', 'fouling', 'ul...   \n",
       "3     'Feedstocks', 'Biomass', 'Fermentation', 'Econ...   \n",
       "4     'Terminator Codon', 'Codon', 'Permethrin', 'Ba...   \n",
       "5     'Neurons', 'Specifications', 'Silicon', 'Netwo...   \n",
       "...                                                 ...   \n",
       "995   'China', 'Uncertainty', 'Volatility spillover'...   \n",
       "996   'employability', 'education', 'experience', 'l...   \n",
       "997   'Lactams', 'Hydrolysis', 'Acids', 'Polysacchar...   \n",
       "998   'Out-of-Hospital Cardiac Arrest', 'Ambulances'...   \n",
       "1000  'Partial discharges', 'Antenna arrays', 'Log p...   \n",
       "\n",
       "                  department  \n",
       "0                  Education  \n",
       "2                Engineering  \n",
       "3                Engineering  \n",
       "4                    Medical  \n",
       "5     Science and Technology  \n",
       "...                      ...  \n",
       "995                  Finance  \n",
       "996                Education  \n",
       "997   Science and Technology  \n",
       "998                  Medical  \n",
       "1000             Engineering  \n",
       "\n",
       "[749 rows x 2 columns]"
      ]
     },
     "execution_count": 3,
     "metadata": {},
     "output_type": "execute_result"
    }
   ],
   "source": [
    "#Medical\n",
    "class_data_df = class_data_df.replace(to_replace =['School of Human and Health Sciences','Department of Pharmacy & Pharmacology','Department of Pharmacy','Department of Nursing and Midwifery','Department of Allied Health Professions, Sport and Exercise','Department for Health','Department of Biology & Biochemistry','Department of Biological and Geographical Sciences'],  value =\"Medical\")\n",
    "\n",
    "#Finance\n",
    "class_data_df = class_data_df.replace(to_replace =['School of Economics, Finance and Accounting','Faculty Research Centre for Financial & Corporate Integrity','Department of Economics','Department of Accounting, Finance and Economics'],  value =\"Finance\")\n",
    "\n",
    "#Science and Technology\n",
    "class_data_df = class_data_df.replace(to_replace =['School of Computing, Electronics and Maths','School of Applied Sciences','Department of Physics','Department of Optometry and Vision Sciences','Department of Mathematical Sciences','Department of Computer Science','Department of Chemistry','Department of Chemical Sciences'],  value =\"Science and Technology\")\n",
    "\n",
    "#Arts\n",
    "class_data_df = class_data_df.replace(to_replace =['Faculty Research Centre in Postdigital Cultures','School of Art, Design and Architecture','Faculty of Science','Faculty of Humanities and Social Sciences','Department of Psychology','Department of History, English, Linguistics and Music','Department of Art and Communication'],  value =\"Arts\")\n",
    "\n",
    "#Engineering\n",
    "class_data_df = class_data_df.replace(to_replace =['School of Mechanical, Aerospace and Automotive Engineering','School of Computing and Engineering','Department of Mechanical Engineering','Department of Engineering and Technology','Department of Electronic & Electrical Engineering','Department of Chemical Engineering','Department of Architecture & Civil Engineering','Department of Architecture and 3D Design'],  value =\"Engineering\")\n",
    "\n",
    "#Management\n",
    "class_data_df = class_data_df.replace(to_replace =['School of Marketing and Management','Management','Department of Media and Performance','Department of Management','Department of Logistics, Marketing, Hospitality and Analytics'],  value =\"Management\")\n",
    "\n",
    "#Education\n",
    "class_data_df = class_data_df.replace(to_replace =['School of Education and Professional Development','Department of Initial Teacher Education','Department of Education and Community Studies','Department of Education','Centre for Global Learning, Education and Attainment'],  value =\"Education\")\n",
    "\n",
    "#Drop\n",
    "drop = ['k.christmann@hud.ac.uk','-','Department of Social & Policy Sciences','Department of Fashion and Textiles','Department of Behavioural and Social Sciences','Designability','Faculty Research Centre for Built & Natural Environment','Faculty Research Centre in Fluid and Complex Systems','Huddersfield Business School','Institute for Future Transport and Cities','Institute for Policy Research (IPR)','Non Academic Depts','Politics, Languages & International Studies','School of Energy, Construction and Environment','School of Music, Humanities and Media','School of Strategy and Leadership','The Law School','Vice-Chancellor\\'s Office','k.christmann@hud.ac']\n",
    "for d in drop:\n",
    "    class_data_df = class_data_df[class_data_df.department != d]\n",
    "\n",
    "class_data_df"
   ]
  },
  {
   "cell_type": "markdown",
   "metadata": {},
   "source": [
    "# -------------------------------------------------------"
   ]
  },
  {
   "cell_type": "code",
   "execution_count": 4,
   "metadata": {
    "scrolled": true
   },
   "outputs": [
    {
     "data": {
      "text/html": [
       "<div>\n",
       "<style scoped>\n",
       "    .dataframe tbody tr th:only-of-type {\n",
       "        vertical-align: middle;\n",
       "    }\n",
       "\n",
       "    .dataframe tbody tr th {\n",
       "        vertical-align: top;\n",
       "    }\n",
       "\n",
       "    .dataframe thead th {\n",
       "        text-align: right;\n",
       "    }\n",
       "</style>\n",
       "<table border=\"1\" class=\"dataframe\">\n",
       "  <thead>\n",
       "    <tr style=\"text-align: right;\">\n",
       "      <th></th>\n",
       "      <th>research_topic</th>\n",
       "      <th>department</th>\n",
       "    </tr>\n",
       "  </thead>\n",
       "  <tbody>\n",
       "    <tr>\n",
       "      <th>0</th>\n",
       "      <td>'sociology', 'pedagogics', 'university', 'soci...</td>\n",
       "      <td>Education</td>\n",
       "    </tr>\n",
       "    <tr>\n",
       "      <th>1</th>\n",
       "      <td>'orange juice', 'phytosterols', 'fouling', 'ul...</td>\n",
       "      <td>Engineering</td>\n",
       "    </tr>\n",
       "    <tr>\n",
       "      <th>2</th>\n",
       "      <td>'Feedstocks', 'Biomass', 'Fermentation', 'Econ...</td>\n",
       "      <td>Engineering</td>\n",
       "    </tr>\n",
       "    <tr>\n",
       "      <th>3</th>\n",
       "      <td>'Terminator Codon', 'Codon', 'Permethrin', 'Ba...</td>\n",
       "      <td>Medical</td>\n",
       "    </tr>\n",
       "    <tr>\n",
       "      <th>4</th>\n",
       "      <td>'Neurons', 'Specifications', 'Silicon', 'Netwo...</td>\n",
       "      <td>Science and Technology</td>\n",
       "    </tr>\n",
       "    <tr>\n",
       "      <th>...</th>\n",
       "      <td>...</td>\n",
       "      <td>...</td>\n",
       "    </tr>\n",
       "    <tr>\n",
       "      <th>744</th>\n",
       "      <td>'China', 'Uncertainty', 'Volatility spillover'...</td>\n",
       "      <td>Finance</td>\n",
       "    </tr>\n",
       "    <tr>\n",
       "      <th>745</th>\n",
       "      <td>'employability', 'education', 'experience', 'l...</td>\n",
       "      <td>Education</td>\n",
       "    </tr>\n",
       "    <tr>\n",
       "      <th>746</th>\n",
       "      <td>'Lactams', 'Hydrolysis', 'Acids', 'Polysacchar...</td>\n",
       "      <td>Science and Technology</td>\n",
       "    </tr>\n",
       "    <tr>\n",
       "      <th>747</th>\n",
       "      <td>'Out-of-Hospital Cardiac Arrest', 'Ambulances'...</td>\n",
       "      <td>Medical</td>\n",
       "    </tr>\n",
       "    <tr>\n",
       "      <th>748</th>\n",
       "      <td>'Partial discharges', 'Antenna arrays', 'Log p...</td>\n",
       "      <td>Engineering</td>\n",
       "    </tr>\n",
       "  </tbody>\n",
       "</table>\n",
       "<p>749 rows × 2 columns</p>\n",
       "</div>"
      ],
      "text/plain": [
       "                                        research_topic              department\n",
       "0    'sociology', 'pedagogics', 'university', 'soci...               Education\n",
       "1    'orange juice', 'phytosterols', 'fouling', 'ul...             Engineering\n",
       "2    'Feedstocks', 'Biomass', 'Fermentation', 'Econ...             Engineering\n",
       "3    'Terminator Codon', 'Codon', 'Permethrin', 'Ba...                 Medical\n",
       "4    'Neurons', 'Specifications', 'Silicon', 'Netwo...  Science and Technology\n",
       "..                                                 ...                     ...\n",
       "744  'China', 'Uncertainty', 'Volatility spillover'...                 Finance\n",
       "745  'employability', 'education', 'experience', 'l...               Education\n",
       "746  'Lactams', 'Hydrolysis', 'Acids', 'Polysacchar...  Science and Technology\n",
       "747  'Out-of-Hospital Cardiac Arrest', 'Ambulances'...                 Medical\n",
       "748  'Partial discharges', 'Antenna arrays', 'Log p...             Engineering\n",
       "\n",
       "[749 rows x 2 columns]"
      ]
     },
     "execution_count": 4,
     "metadata": {},
     "output_type": "execute_result"
    }
   ],
   "source": [
    "data_improved = class_data_df.reset_index(drop=True)\n",
    "data_improved"
   ]
  },
  {
   "cell_type": "code",
   "execution_count": 5,
   "metadata": {},
   "outputs": [],
   "source": [
    "data_improved.research_topic = data_improved.research_topic.replace('[0-9]', '', regex=True)"
   ]
  },
  {
   "cell_type": "code",
   "execution_count": 6,
   "metadata": {},
   "outputs": [],
   "source": [
    "lenght = []\n",
    "\n",
    "for i in range(len(data_improved)):\n",
    "    lenght.append(len(data_improved.research_topic[i].split()))"
   ]
  },
  {
   "cell_type": "code",
   "execution_count": 7,
   "metadata": {},
   "outputs": [],
   "source": [
    "data_improved['lenght'] = lenght"
   ]
  },
  {
   "cell_type": "code",
   "execution_count": 8,
   "metadata": {},
   "outputs": [
    {
     "data": {
      "text/html": [
       "<div>\n",
       "<style scoped>\n",
       "    .dataframe tbody tr th:only-of-type {\n",
       "        vertical-align: middle;\n",
       "    }\n",
       "\n",
       "    .dataframe tbody tr th {\n",
       "        vertical-align: top;\n",
       "    }\n",
       "\n",
       "    .dataframe thead th {\n",
       "        text-align: right;\n",
       "    }\n",
       "</style>\n",
       "<table border=\"1\" class=\"dataframe\">\n",
       "  <thead>\n",
       "    <tr style=\"text-align: right;\">\n",
       "      <th></th>\n",
       "      <th>research_topic</th>\n",
       "      <th>department</th>\n",
       "      <th>lenght</th>\n",
       "    </tr>\n",
       "  </thead>\n",
       "  <tbody>\n",
       "    <tr>\n",
       "      <th>0</th>\n",
       "      <td>'sociology', 'pedagogics', 'university', 'soci...</td>\n",
       "      <td>Education</td>\n",
       "      <td>67</td>\n",
       "    </tr>\n",
       "    <tr>\n",
       "      <th>1</th>\n",
       "      <td>'orange juice', 'phytosterols', 'fouling', 'ul...</td>\n",
       "      <td>Engineering</td>\n",
       "      <td>29</td>\n",
       "    </tr>\n",
       "    <tr>\n",
       "      <th>2</th>\n",
       "      <td>'Feedstocks', 'Biomass', 'Fermentation', 'Econ...</td>\n",
       "      <td>Engineering</td>\n",
       "      <td>110</td>\n",
       "    </tr>\n",
       "    <tr>\n",
       "      <th>3</th>\n",
       "      <td>'Terminator Codon', 'Codon', 'Permethrin', 'Ba...</td>\n",
       "      <td>Medical</td>\n",
       "      <td>60</td>\n",
       "    </tr>\n",
       "    <tr>\n",
       "      <th>4</th>\n",
       "      <td>'Neurons', 'Specifications', 'Silicon', 'Netwo...</td>\n",
       "      <td>Science and Technology</td>\n",
       "      <td>13</td>\n",
       "    </tr>\n",
       "  </tbody>\n",
       "</table>\n",
       "</div>"
      ],
      "text/plain": [
       "                                      research_topic              department  \\\n",
       "0  'sociology', 'pedagogics', 'university', 'soci...               Education   \n",
       "1  'orange juice', 'phytosterols', 'fouling', 'ul...             Engineering   \n",
       "2  'Feedstocks', 'Biomass', 'Fermentation', 'Econ...             Engineering   \n",
       "3  'Terminator Codon', 'Codon', 'Permethrin', 'Ba...                 Medical   \n",
       "4  'Neurons', 'Specifications', 'Silicon', 'Netwo...  Science and Technology   \n",
       "\n",
       "   lenght  \n",
       "0      67  \n",
       "1      29  \n",
       "2     110  \n",
       "3      60  \n",
       "4      13  "
      ]
     },
     "execution_count": 8,
     "metadata": {},
     "output_type": "execute_result"
    }
   ],
   "source": [
    "data_improved.head(5)"
   ]
  },
  {
   "cell_type": "code",
   "execution_count": 9,
   "metadata": {},
   "outputs": [
    {
     "data": {
      "text/plain": [
       "669"
      ]
     },
     "execution_count": 9,
     "metadata": {},
     "output_type": "execute_result"
    }
   ],
   "source": [
    "data_improved = data_improved[data_improved.lenght>10]\n",
    "len(data_improved)"
   ]
  },
  {
   "cell_type": "code",
   "execution_count": 10,
   "metadata": {},
   "outputs": [
    {
     "name": "stdout",
     "output_type": "stream",
     "text": [
      "There's 9 departments.\n",
      "department\n",
      "Arts                                            112\n",
      "Centre for Agroecology, Water and Resilience     20\n",
      "Centre for Trust, Peace and Social Relations     10\n",
      "Education                                        43\n",
      "Engineering                                     133\n",
      "Finance                                          85\n",
      "Management                                       82\n",
      "Medical                                         145\n",
      "Science and Technology                          119\n",
      "dtype: int64\n"
     ]
    }
   ],
   "source": [
    "departments = class_data_df.groupby('department')\n",
    "print(\"There's {} departments.\" .format(departments.ngroups))\n",
    "print(departments.size())"
   ]
  },
  {
   "cell_type": "code",
   "execution_count": 385,
   "metadata": {},
   "outputs": [],
   "source": [
    "X, y = class_data_df.research_topic, class_data_df.department;\n",
    "\n",
    "#tokenize and create bag of words\n",
    "vectorizer = CountVectorizer(stop_words=\"english\")\n",
    "\n",
    "X = vectorizer.fit_transform(X)"
   ]
  },
  {
   "cell_type": "code",
   "execution_count": 386,
   "metadata": {},
   "outputs": [],
   "source": [
    "from sklearn.model_selection import train_test_split\n",
    "\n",
    "X_train, X_test, y_train, y_test = train_test_split(X, y, test_size=0.3, random_state=100)"
   ]
  },
  {
   "cell_type": "code",
   "execution_count": 387,
   "metadata": {},
   "outputs": [
    {
     "name": "stdout",
     "output_type": "stream",
     "text": [
      "                                              precision    recall  f1-score   support\n",
      "\n",
      "                                        Arts       0.93      0.63      0.75        43\n",
      "Centre for Agroecology, Water and Resilience       1.00      1.00      1.00         4\n",
      "Centre for Trust, Peace and Social Relations       1.00      1.00      1.00         2\n",
      "                                   Education       0.61      0.73      0.67        15\n",
      "                                 Engineering       0.73      0.75      0.74        48\n",
      "                                     Finance       0.96      0.86      0.91        28\n",
      "                                  Management       0.64      0.76      0.70        21\n",
      "                                     Medical       0.61      0.77      0.68        30\n",
      "                      Science and Technology       0.63      0.65      0.64        34\n",
      "\n",
      "                                    accuracy                           0.73       225\n",
      "                                   macro avg       0.79      0.79      0.79       225\n",
      "                                weighted avg       0.76      0.73      0.74       225\n",
      "\n"
     ]
    }
   ],
   "source": [
    "from sklearn.linear_model import LogisticRegression\n",
    "\n",
    "logmodel = LogisticRegression()\n",
    "logmodel.fit(X_train,y_train)\n",
    "predictions = logmodel.predict(X_test)\n",
    "\n",
    "from sklearn.metrics import classification_report\n",
    "print(classification_report(y_test,predictions))"
   ]
  },
  {
   "cell_type": "code",
   "execution_count": 388,
   "metadata": {},
   "outputs": [
    {
     "data": {
      "text/plain": [
       "['uni_classifier.joblib']"
      ]
     },
     "execution_count": 388,
     "metadata": {},
     "output_type": "execute_result"
    }
   ],
   "source": [
    "dump(vectorizer, \"preprocessor.joblib\")\n",
    "dump(model, \"uni_classifier.joblib\")"
   ]
  },
  {
   "cell_type": "code",
   "execution_count": 389,
   "metadata": {},
   "outputs": [],
   "source": [
    "preprocessor = load(\"preprocessor.joblib\")\n",
    "model = load(\"uni_classifier.joblib\")\n",
    "\n",
    "def predict_topic():\n",
    "  text = input(\"Enter text to be predicted: \")\n",
    "  text = preprocessor.transform([text])\n",
    "  prediction = model.predict(text)[0]\n",
    "  print(\"This text is most likely about {}.\" .format(prediction))"
   ]
  },
  {
   "cell_type": "code",
   "execution_count": null,
   "metadata": {},
   "outputs": [],
   "source": [
    "predict_topic()"
   ]
  },
  {
   "cell_type": "code",
   "execution_count": null,
   "metadata": {},
   "outputs": [],
   "source": []
  },
  {
   "cell_type": "code",
   "execution_count": null,
   "metadata": {},
   "outputs": [],
   "source": []
  }
 ],
 "metadata": {
  "kernelspec": {
   "display_name": "Python 3",
   "language": "python",
   "name": "python3"
  },
  "language_info": {
   "codemirror_mode": {
    "name": "ipython",
    "version": 3
   },
   "file_extension": ".py",
   "mimetype": "text/x-python",
   "name": "python",
   "nbconvert_exporter": "python",
   "pygments_lexer": "ipython3",
   "version": "3.7.6"
  }
 },
 "nbformat": 4,
 "nbformat_minor": 4
}
