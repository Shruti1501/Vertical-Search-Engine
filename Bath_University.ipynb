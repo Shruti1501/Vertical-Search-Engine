{
 "cells": [
  {
   "cell_type": "code",
   "execution_count": 9,
   "metadata": {},
   "outputs": [],
   "source": [
    "import pandas as pd\n",
    "import numpy as np\n",
    "import matplotlib.pyplot as plt\n",
    "import seaborn as sns\n",
    "%matplotlib inline\n",
    "from urllib.request import urlopen\n",
    "from bs4 import BeautifulSoup\n",
    "import datetime\n",
    "import unicodedata\n",
    "import time\n",
    "from tqdm import tqdm\n",
    "import re\n",
    "import sys\n",
    "import requests\n",
    "import warnings\n",
    "import pandas as pd\n",
    "\n",
    "from time import sleep\n",
    "from copy import deepcopy\n",
    "from tqdm import tqdm_notebook as tqdm\n",
    "from IPython.display import Markdown, display"
   ]
  },
  {
   "cell_type": "code",
   "execution_count": 10,
   "metadata": {},
   "outputs": [
    {
     "name": "stdout",
     "output_type": "stream",
     "text": [
      "Time of Crawl: 2020-07-29\n"
     ]
    }
   ],
   "source": [
    "# Print Timestamp At time of crawl\n",
    "datePosted = str(datetime.date.today())\n",
    "print('Time of Crawl: ' + datePosted)"
   ]
  },
  {
   "cell_type": "code",
   "execution_count": 11,
   "metadata": {},
   "outputs": [
    {
     "data": {
      "text/markdown": [
       "<span style='font-family:courier;color:green;font-size:115%;' >**--> Libraries Imported Successfully.**</span>"
      ],
      "text/plain": [
       "<IPython.core.display.Markdown object>"
      ]
     },
     "metadata": {},
     "output_type": "display_data"
    }
   ],
   "source": [
    "warnings.filterwarnings('ignore')\n",
    "\n",
    "def printmd(string):\n",
    "    display(Markdown(string))\n",
    "\n",
    "printmd(\"<span style='font-family:courier;color:green;font-size:115%;' >**--> Libraries Imported Successfully.**</span>\")"
   ]
  },
  {
   "cell_type": "code",
   "execution_count": 12,
   "metadata": {},
   "outputs": [
    {
     "name": "stdout",
     "output_type": "stream",
     "text": [
      "\n",
      "===========================\n",
      "Fetching University Page(s) :\n",
      "===========================\n"
     ]
    },
    {
     "data": {
      "application/vnd.jupyter.widget-view+json": {
       "model_id": "12ddf4df724a45b3b4c8ddebc0e53b82",
       "version_major": 2,
       "version_minor": 0
      },
      "text/plain": [
       "HBox(children=(FloatProgress(value=0.0, max=10.0), HTML(value='')))"
      ]
     },
     "metadata": {},
     "output_type": "display_data"
    },
    {
     "name": "stdout",
     "output_type": "stream",
     "text": [
      "\n"
     ]
    },
    {
     "data": {
      "text/markdown": [
       "<span style='font-family:courier;color:green;font-size:115%;' > **--> There are Total 10 university page(s) found, each page(s) contains 50 researchers profile links.**</span>"
      ],
      "text/plain": [
       "<IPython.core.display.Markdown object>"
      ]
     },
     "metadata": {},
     "output_type": "display_data"
    }
   ],
   "source": [
    "print(\"\\n===========================\")\n",
    "print(\"Fetching University Page(s) :\")\n",
    "print(\"===========================\")\n",
    "\n",
    "base_url = 'https://researchportal.bath.ac.uk/en/persons/?format=&page='\n",
    "\n",
    "total_pages = 10\n",
    "\n",
    "uni_urls = []\n",
    "\n",
    "for x in tqdm(range(total_pages)):\n",
    "    uni_urls.append(base_url+str(x))\n",
    "    \n",
    "no_of_profiles = total_pages*50\n",
    "    \n",
    "printmd(\"<span style='font-family:courier;color:green;font-size:115%;' > **--> There are Total \"+str(total_pages)+\" university page(s) found, each page(s) contains 50 researchers profile links.**</span>\")"
   ]
  },
  {
   "cell_type": "code",
   "execution_count": 13,
   "metadata": {},
   "outputs": [
    {
     "name": "stdout",
     "output_type": "stream",
     "text": [
      "\n",
      "================================\n",
      "Fetching links of All Profiles : \n",
      "================================\n"
     ]
    },
    {
     "data": {
      "application/vnd.jupyter.widget-view+json": {
       "model_id": "07a8bf02e69248b9bbee0dd6cf8acddd",
       "version_major": 2,
       "version_minor": 0
      },
      "text/plain": [
       "HBox(children=(FloatProgress(value=0.0, max=10.0), HTML(value='')))"
      ]
     },
     "metadata": {},
     "output_type": "display_data"
    },
    {
     "name": "stdout",
     "output_type": "stream",
     "text": [
      "\n"
     ]
    },
    {
     "data": {
      "text/markdown": [
       "<span style='font-family:courier;color:green;font-size:115%;' > **--> Total 500  Numbers of Researchers Profile Found.**</span>"
      ],
      "text/plain": [
       "<IPython.core.display.Markdown object>"
      ]
     },
     "metadata": {},
     "output_type": "display_data"
    }
   ],
   "source": [
    "print(\"\\n================================\")\n",
    "print(\"Fetching links of All Profiles : \")\n",
    "print(\"================================\")\n",
    "\n",
    "prof_links = []\n",
    "\n",
    "for uni_url in tqdm(uni_urls):\n",
    "    request = requests.get(uni_url)\n",
    "    soup = BeautifulSoup(request.content, 'html.parser')    \n",
    "    result_grid = soup.find('section', { \"class\" : \"grid-results\"})\n",
    "    \n",
    "    for a in result_grid.find_all('a', { \"class\" : \"link person\" }, href=True):\n",
    "        prof_links.append(a['href'])\n",
    "\n",
    "\n",
    "printmd(\"<span style='font-family:courier;color:green;font-size:115%;' > **--> Total \"+str(len(prof_links))+\"  Numbers of Researchers Profile Found.**</span>\")"
   ]
  },
  {
   "cell_type": "code",
   "execution_count": 14,
   "metadata": {},
   "outputs": [
    {
     "name": "stdout",
     "output_type": "stream",
     "text": [
      "\n",
      "=====================================\n",
      "Fetching Details of Each Researcher : \n",
      "=====================================\n"
     ]
    },
    {
     "data": {
      "application/vnd.jupyter.widget-view+json": {
       "model_id": "1433f26838ab48268f747a85e018c30f",
       "version_major": 2,
       "version_minor": 0
      },
      "text/plain": [
       "HBox(children=(FloatProgress(value=0.0, max=500.0), HTML(value='')))"
      ]
     },
     "metadata": {},
     "output_type": "display_data"
    },
    {
     "name": "stdout",
     "output_type": "stream",
     "text": [
      "\n"
     ]
    },
    {
     "data": {
      "text/markdown": [
       "<span style='font-family:courier;color:green;font-size:115%;' > **--> Profile Details of 500 Researchers fetched Successfully.**</span>"
      ],
      "text/plain": [
       "<IPython.core.display.Markdown object>"
      ]
     },
     "metadata": {},
     "output_type": "display_data"
    }
   ],
   "source": [
    "print(\"\\n=====================================\")\n",
    "print(\"Fetching Details of Each Researcher : \")\n",
    "print(\"=====================================\")\n",
    "\n",
    "prof_data = []\n",
    "\n",
    "\n",
    "for row in tqdm(prof_links):\n",
    "    prof_request = requests.get(row)\n",
    "    prof_soup = BeautifulSoup(prof_request.content, 'html.parser')\n",
    "    prof_grid = prof_soup.find('div', { \"class\" : \"profile\"})\n",
    "    \n",
    "    info = dict()\n",
    "    prof_info = []\n",
    "    \n",
    "    info['url'] = row if row else \"-\"\n",
    "    info['image_url'] = \"https://researchportal.bath.ac.uk/\"+prof_grid.find('img').attrs['src'] if prof_grid.find('img').attrs['src'] else \"-\"\n",
    "    info['name'] = prof_grid.select_one('.person-details h1').text.strip() if prof_grid.select_one('.person-details h1') else \"-\"\n",
    "    info['department'] = prof_grid.select_one('ul li a').text.strip() if prof_grid.select_one('ul li a') else \"-\"\n",
    "    info['university'] = \"University of Bath\"\n",
    "    info['phone'] = prof_grid.select_one('.phones .description').text.strip() if prof_grid.select_one('.phones .description') else \"-\"\n",
    "    info['email'] = prof_grid.select_one('.emails .description').text.strip() if prof_grid.select_one('.emails .description') else \"-\"\n",
    "    info['fingerprints_url'] = row+\"/fingerprints\" if row else \"-\"\n",
    "    info['projects_url'] = row+\"/projects\" if row else \"-\"\n",
    "    \n",
    "    prof_info.append(info[\"url\"])\n",
    "    prof_info.append(info[\"image_url\"])\n",
    "    prof_info.append(info[\"name\"])\n",
    "    prof_info.append(info[\"department\"])\n",
    "    prof_info.append(info[\"university\"])\n",
    "    prof_info.append(info[\"phone\"])\n",
    "    prof_info.append(info[\"email\"])\n",
    "    \n",
    "    ##########################\n",
    "    \n",
    "    prof_info.append(info[\"fingerprints_url\"])\n",
    "    \n",
    "    fingerprint_request = requests.get(info[\"fingerprints_url\"])\n",
    "    fingerprint_soup = BeautifulSoup(fingerprint_request.content, 'html.parser')    \n",
    "    fingerprint_grid = fingerprint_soup.find('div', { \"class\" : \"person-fingerprints\"})\n",
    "    \n",
    "    prof_research = []\n",
    "    \n",
    "    for research in fingerprint_soup.find_all('span', { \"class\" : \"concept\" }):\n",
    "        prof_research.append(research.text)\n",
    "    \n",
    "    prof_info.append(str(prof_research)[1:-1])\n",
    "    \n",
    "    ##########################\n",
    "    \n",
    "    prof_info.append(info[\"projects_url\"])\n",
    "    \n",
    "    project_request = requests.get(info[\"projects_url\"])\n",
    "    project_soup = BeautifulSoup(project_request.content, 'html.parser')    \n",
    "    project_grid = project_soup.find('section', { \"class\" : \"list-results\"})\n",
    "\n",
    "    prof_all_project = []\n",
    "    \n",
    "    for a in project_grid.find_all('div', { \"class\" : \"result-container\" }):\n",
    "\n",
    "        proj_info = dict()\n",
    "        \n",
    "        proj_info['title'] = a.select_one('.title').text.strip() if a.select_one('.title') else \"-\"\n",
    "        proj_info['person'] = a.select_one('p span').text.strip() if a.select_one('p span') else \"-\"\n",
    "        proj_info['fundings'] = a.select_one('.fundings').text.strip() if a.select_one('.fundings') else \"-\"\n",
    "        proj_info['period'] = a.select_one('.period').text.strip() if a.select_one('.period') else \"-\"\n",
    "        proj_info['type'] = a.select_one('.type_classification').text.strip() if a.select_one('.type_classification') else \"-\"\n",
    "\n",
    "        prof_proj = []\n",
    "        \n",
    "        prof_proj.append(proj_info['title'])\n",
    "        prof_proj.append(proj_info['person'])\n",
    "        prof_proj.append(proj_info['fundings'])\n",
    "        prof_proj.append(proj_info['period'])\n",
    "        prof_proj.append(proj_info['type'])\n",
    "        \n",
    "        prof_all_project.append(prof_proj)\n",
    "    \n",
    "    prof_info.append(prof_all_project)\n",
    "    \n",
    "    ##########################\n",
    "    \n",
    "    \n",
    "    prof_data.append(prof_info)\n",
    "    \n",
    "\n",
    "#print(prof_info)\n",
    "#print(prof_data)\n",
    "\n",
    "printmd(\"<span style='font-family:courier;color:green;font-size:115%;' > **--> Profile Details of \"+str(len(prof_links))+\" Researchers fetched Successfully.**</span>\")"
   ]
  },
  {
   "cell_type": "code",
   "execution_count": 15,
   "metadata": {},
   "outputs": [
    {
     "data": {
      "text/html": [
       "<div>\n",
       "<style scoped>\n",
       "    .dataframe tbody tr th:only-of-type {\n",
       "        vertical-align: middle;\n",
       "    }\n",
       "\n",
       "    .dataframe tbody tr th {\n",
       "        vertical-align: top;\n",
       "    }\n",
       "\n",
       "    .dataframe thead th {\n",
       "        text-align: right;\n",
       "    }\n",
       "</style>\n",
       "<table border=\"1\" class=\"dataframe\">\n",
       "  <thead>\n",
       "    <tr style=\"text-align: right;\">\n",
       "      <th></th>\n",
       "      <th>profile_url</th>\n",
       "      <th>image_url</th>\n",
       "      <th>full_name</th>\n",
       "      <th>department</th>\n",
       "      <th>university</th>\n",
       "      <th>contact</th>\n",
       "      <th>email</th>\n",
       "      <th>fingerprints_url</th>\n",
       "      <th>research_topic</th>\n",
       "      <th>projects_url</th>\n",
       "      <th>project_info</th>\n",
       "    </tr>\n",
       "  </thead>\n",
       "  <tbody>\n",
       "    <tr>\n",
       "      <th>0</th>\n",
       "      <td>https://researchportal.bath.ac.uk/en/persons/r...</td>\n",
       "      <td>https://researchportal.bath.ac.uk//assets/no-p...</td>\n",
       "      <td>Rahmi _</td>\n",
       "      <td>Department of Education</td>\n",
       "      <td>University of Bath</td>\n",
       "      <td>-</td>\n",
       "      <td>Rahmi@bath.ac.uk</td>\n",
       "      <td>https://researchportal.bath.ac.uk/en/persons/r...</td>\n",
       "      <td></td>\n",
       "      <td>https://researchportal.bath.ac.uk/en/persons/r...</td>\n",
       "      <td>[]</td>\n",
       "    </tr>\n",
       "    <tr>\n",
       "      <th>1</th>\n",
       "      <td>https://researchportal.bath.ac.uk/en/persons/a...</td>\n",
       "      <td>https://researchportal.bath.ac.uk//files-asset...</td>\n",
       "      <td>Andrea Abbas, Professor of the Sociology of Hi...</td>\n",
       "      <td>Department of Education</td>\n",
       "      <td>University of Bath</td>\n",
       "      <td>+44 (0) 1225 385217</td>\n",
       "      <td>A.Abbas@bath.ac.uk</td>\n",
       "      <td>https://researchportal.bath.ac.uk/en/persons/a...</td>\n",
       "      <td>'sociology', 'pedagogics', 'university', 'soci...</td>\n",
       "      <td>https://researchportal.bath.ac.uk/en/persons/a...</td>\n",
       "      <td>[[Developing Leadership and Pedagogical Knowle...</td>\n",
       "    </tr>\n",
       "    <tr>\n",
       "      <th>2</th>\n",
       "      <td>https://researchportal.bath.ac.uk/en/persons/j...</td>\n",
       "      <td>https://researchportal.bath.ac.uk//files-asset...</td>\n",
       "      <td>Joan Abbas</td>\n",
       "      <td>Department of Social &amp; Policy Sciences</td>\n",
       "      <td>University of Bath</td>\n",
       "      <td>-</td>\n",
       "      <td>J.E.Abbas@bath.ac.uk</td>\n",
       "      <td>https://researchportal.bath.ac.uk/en/persons/j...</td>\n",
       "      <td>'pedagogics', 'Teaching', 'candidacy', 'educat...</td>\n",
       "      <td>https://researchportal.bath.ac.uk/en/persons/j...</td>\n",
       "      <td>[[Contemporary welfare state reforms: social i...</td>\n",
       "    </tr>\n",
       "    <tr>\n",
       "      <th>3</th>\n",
       "      <td>https://researchportal.bath.ac.uk/en/persons/t...</td>\n",
       "      <td>https://researchportal.bath.ac.uk//assets/no-p...</td>\n",
       "      <td>Taghried Abdelmagid</td>\n",
       "      <td>Department of Architecture &amp; Civil Engineering</td>\n",
       "      <td>University of Bath</td>\n",
       "      <td>-</td>\n",
       "      <td>T.I.M.Abdelmagid@bath.ac.uk</td>\n",
       "      <td>https://researchportal.bath.ac.uk/en/persons/t...</td>\n",
       "      <td></td>\n",
       "      <td>https://researchportal.bath.ac.uk/en/persons/t...</td>\n",
       "      <td>[]</td>\n",
       "    </tr>\n",
       "    <tr>\n",
       "      <th>4</th>\n",
       "      <td>https://researchportal.bath.ac.uk/en/persons/k...</td>\n",
       "      <td>https://researchportal.bath.ac.uk//assets/no-p...</td>\n",
       "      <td>Katty Abdelmalek</td>\n",
       "      <td>Management</td>\n",
       "      <td>University of Bath</td>\n",
       "      <td>-</td>\n",
       "      <td>K.S.N.Abdelmalek@bath.ac.uk</td>\n",
       "      <td>https://researchportal.bath.ac.uk/en/persons/k...</td>\n",
       "      <td></td>\n",
       "      <td>https://researchportal.bath.ac.uk/en/persons/k...</td>\n",
       "      <td>[]</td>\n",
       "    </tr>\n",
       "    <tr>\n",
       "      <th>...</th>\n",
       "      <td>...</td>\n",
       "      <td>...</td>\n",
       "      <td>...</td>\n",
       "      <td>...</td>\n",
       "      <td>...</td>\n",
       "      <td>...</td>\n",
       "      <td>...</td>\n",
       "      <td>...</td>\n",
       "      <td>...</td>\n",
       "      <td>...</td>\n",
       "      <td>...</td>\n",
       "    </tr>\n",
       "    <tr>\n",
       "      <th>495</th>\n",
       "      <td>https://researchportal.bath.ac.uk/en/persons/y...</td>\n",
       "      <td>https://researchportal.bath.ac.uk//assets/no-p...</td>\n",
       "      <td>Yanyan Cheng</td>\n",
       "      <td>Department of Pharmacy &amp; Pharmacology</td>\n",
       "      <td>University of Bath</td>\n",
       "      <td>-</td>\n",
       "      <td>Y.Cheng@bath.ac.uk</td>\n",
       "      <td>https://researchportal.bath.ac.uk/en/persons/y...</td>\n",
       "      <td></td>\n",
       "      <td>https://researchportal.bath.ac.uk/en/persons/y...</td>\n",
       "      <td>[]</td>\n",
       "    </tr>\n",
       "    <tr>\n",
       "      <th>496</th>\n",
       "      <td>https://researchportal.bath.ac.uk/en/persons/k...</td>\n",
       "      <td>https://researchportal.bath.ac.uk//files-asset...</td>\n",
       "      <td>Kirill Cherednichenko</td>\n",
       "      <td>Department of Mathematical Sciences</td>\n",
       "      <td>University of Bath</td>\n",
       "      <td>+44 (0) 1225 386891</td>\n",
       "      <td>K.Cherednichenko@bath.ac.uk</td>\n",
       "      <td>https://researchportal.bath.ac.uk/en/persons/k...</td>\n",
       "      <td>'Periodic Coefficients', 'Composite Media', 'H...</td>\n",
       "      <td>https://researchportal.bath.ac.uk/en/persons/k...</td>\n",
       "      <td>[[From functional models of operator theory to...</td>\n",
       "    </tr>\n",
       "    <tr>\n",
       "      <th>497</th>\n",
       "      <td>https://researchportal.bath.ac.uk/en/persons/r...</td>\n",
       "      <td>https://researchportal.bath.ac.uk//assets/no-p...</td>\n",
       "      <td>Robert Cherry</td>\n",
       "      <td>Department of Mechanical Engineering</td>\n",
       "      <td>University of Bath</td>\n",
       "      <td>-</td>\n",
       "      <td>rwc34@bath.ac.uk</td>\n",
       "      <td>https://researchportal.bath.ac.uk/en/persons/r...</td>\n",
       "      <td></td>\n",
       "      <td>https://researchportal.bath.ac.uk/en/persons/r...</td>\n",
       "      <td>[]</td>\n",
       "    </tr>\n",
       "    <tr>\n",
       "      <th>498</th>\n",
       "      <td>https://researchportal.bath.ac.uk/en/persons/j...</td>\n",
       "      <td>https://researchportal.bath.ac.uk//files-asset...</td>\n",
       "      <td>John Chew</td>\n",
       "      <td>Department of Chemical Engineering</td>\n",
       "      <td>University of Bath</td>\n",
       "      <td>+44 (0) 1225 386132</td>\n",
       "      <td>Y.M.Chew@bath.ac.uk</td>\n",
       "      <td>https://researchportal.bath.ac.uk/en/persons/j...</td>\n",
       "      <td>'Gaging', 'Fluid dynamics', 'Fouling', 'Cleani...</td>\n",
       "      <td>https://researchportal.bath.ac.uk/en/persons/j...</td>\n",
       "      <td>[[Computational fluid dynamics as a means to r...</td>\n",
       "    </tr>\n",
       "    <tr>\n",
       "      <th>499</th>\n",
       "      <td>https://researchportal.bath.ac.uk/en/persons/s...</td>\n",
       "      <td>https://researchportal.bath.ac.uk//assets/no-p...</td>\n",
       "      <td>Samuel Childs</td>\n",
       "      <td>Department of Chemistry</td>\n",
       "      <td>University of Bath</td>\n",
       "      <td>-</td>\n",
       "      <td>S.R.Childs@bath.ac.uk</td>\n",
       "      <td>https://researchportal.bath.ac.uk/en/persons/s...</td>\n",
       "      <td></td>\n",
       "      <td>https://researchportal.bath.ac.uk/en/persons/s...</td>\n",
       "      <td>[]</td>\n",
       "    </tr>\n",
       "  </tbody>\n",
       "</table>\n",
       "<p>500 rows × 11 columns</p>\n",
       "</div>"
      ],
      "text/plain": [
       "                                           profile_url  \\\n",
       "0    https://researchportal.bath.ac.uk/en/persons/r...   \n",
       "1    https://researchportal.bath.ac.uk/en/persons/a...   \n",
       "2    https://researchportal.bath.ac.uk/en/persons/j...   \n",
       "3    https://researchportal.bath.ac.uk/en/persons/t...   \n",
       "4    https://researchportal.bath.ac.uk/en/persons/k...   \n",
       "..                                                 ...   \n",
       "495  https://researchportal.bath.ac.uk/en/persons/y...   \n",
       "496  https://researchportal.bath.ac.uk/en/persons/k...   \n",
       "497  https://researchportal.bath.ac.uk/en/persons/r...   \n",
       "498  https://researchportal.bath.ac.uk/en/persons/j...   \n",
       "499  https://researchportal.bath.ac.uk/en/persons/s...   \n",
       "\n",
       "                                             image_url  \\\n",
       "0    https://researchportal.bath.ac.uk//assets/no-p...   \n",
       "1    https://researchportal.bath.ac.uk//files-asset...   \n",
       "2    https://researchportal.bath.ac.uk//files-asset...   \n",
       "3    https://researchportal.bath.ac.uk//assets/no-p...   \n",
       "4    https://researchportal.bath.ac.uk//assets/no-p...   \n",
       "..                                                 ...   \n",
       "495  https://researchportal.bath.ac.uk//assets/no-p...   \n",
       "496  https://researchportal.bath.ac.uk//files-asset...   \n",
       "497  https://researchportal.bath.ac.uk//assets/no-p...   \n",
       "498  https://researchportal.bath.ac.uk//files-asset...   \n",
       "499  https://researchportal.bath.ac.uk//assets/no-p...   \n",
       "\n",
       "                                             full_name  \\\n",
       "0                                              Rahmi _   \n",
       "1    Andrea Abbas, Professor of the Sociology of Hi...   \n",
       "2                                           Joan Abbas   \n",
       "3                                  Taghried Abdelmagid   \n",
       "4                                     Katty Abdelmalek   \n",
       "..                                                 ...   \n",
       "495                                       Yanyan Cheng   \n",
       "496                              Kirill Cherednichenko   \n",
       "497                                      Robert Cherry   \n",
       "498                                          John Chew   \n",
       "499                                      Samuel Childs   \n",
       "\n",
       "                                         department          university  \\\n",
       "0                           Department of Education  University of Bath   \n",
       "1                           Department of Education  University of Bath   \n",
       "2            Department of Social & Policy Sciences  University of Bath   \n",
       "3    Department of Architecture & Civil Engineering  University of Bath   \n",
       "4                                        Management  University of Bath   \n",
       "..                                              ...                 ...   \n",
       "495           Department of Pharmacy & Pharmacology  University of Bath   \n",
       "496             Department of Mathematical Sciences  University of Bath   \n",
       "497            Department of Mechanical Engineering  University of Bath   \n",
       "498              Department of Chemical Engineering  University of Bath   \n",
       "499                         Department of Chemistry  University of Bath   \n",
       "\n",
       "                 contact                        email  \\\n",
       "0                      -             Rahmi@bath.ac.uk   \n",
       "1    +44 (0) 1225 385217           A.Abbas@bath.ac.uk   \n",
       "2                      -         J.E.Abbas@bath.ac.uk   \n",
       "3                      -  T.I.M.Abdelmagid@bath.ac.uk   \n",
       "4                      -  K.S.N.Abdelmalek@bath.ac.uk   \n",
       "..                   ...                          ...   \n",
       "495                    -           Y.Cheng@bath.ac.uk   \n",
       "496  +44 (0) 1225 386891  K.Cherednichenko@bath.ac.uk   \n",
       "497                    -             rwc34@bath.ac.uk   \n",
       "498  +44 (0) 1225 386132          Y.M.Chew@bath.ac.uk   \n",
       "499                    -        S.R.Childs@bath.ac.uk   \n",
       "\n",
       "                                      fingerprints_url  \\\n",
       "0    https://researchportal.bath.ac.uk/en/persons/r...   \n",
       "1    https://researchportal.bath.ac.uk/en/persons/a...   \n",
       "2    https://researchportal.bath.ac.uk/en/persons/j...   \n",
       "3    https://researchportal.bath.ac.uk/en/persons/t...   \n",
       "4    https://researchportal.bath.ac.uk/en/persons/k...   \n",
       "..                                                 ...   \n",
       "495  https://researchportal.bath.ac.uk/en/persons/y...   \n",
       "496  https://researchportal.bath.ac.uk/en/persons/k...   \n",
       "497  https://researchportal.bath.ac.uk/en/persons/r...   \n",
       "498  https://researchportal.bath.ac.uk/en/persons/j...   \n",
       "499  https://researchportal.bath.ac.uk/en/persons/s...   \n",
       "\n",
       "                                        research_topic  \\\n",
       "0                                                        \n",
       "1    'sociology', 'pedagogics', 'university', 'soci...   \n",
       "2    'pedagogics', 'Teaching', 'candidacy', 'educat...   \n",
       "3                                                        \n",
       "4                                                        \n",
       "..                                                 ...   \n",
       "495                                                      \n",
       "496  'Periodic Coefficients', 'Composite Media', 'H...   \n",
       "497                                                      \n",
       "498  'Gaging', 'Fluid dynamics', 'Fouling', 'Cleani...   \n",
       "499                                                      \n",
       "\n",
       "                                          projects_url  \\\n",
       "0    https://researchportal.bath.ac.uk/en/persons/r...   \n",
       "1    https://researchportal.bath.ac.uk/en/persons/a...   \n",
       "2    https://researchportal.bath.ac.uk/en/persons/j...   \n",
       "3    https://researchportal.bath.ac.uk/en/persons/t...   \n",
       "4    https://researchportal.bath.ac.uk/en/persons/k...   \n",
       "..                                                 ...   \n",
       "495  https://researchportal.bath.ac.uk/en/persons/y...   \n",
       "496  https://researchportal.bath.ac.uk/en/persons/k...   \n",
       "497  https://researchportal.bath.ac.uk/en/persons/r...   \n",
       "498  https://researchportal.bath.ac.uk/en/persons/j...   \n",
       "499  https://researchportal.bath.ac.uk/en/persons/s...   \n",
       "\n",
       "                                          project_info  \n",
       "0                                                   []  \n",
       "1    [[Developing Leadership and Pedagogical Knowle...  \n",
       "2    [[Contemporary welfare state reforms: social i...  \n",
       "3                                                   []  \n",
       "4                                                   []  \n",
       "..                                                 ...  \n",
       "495                                                 []  \n",
       "496  [[From functional models of operator theory to...  \n",
       "497                                                 []  \n",
       "498  [[Computational fluid dynamics as a means to r...  \n",
       "499                                                 []  \n",
       "\n",
       "[500 rows x 11 columns]"
      ]
     },
     "execution_count": 15,
     "metadata": {},
     "output_type": "execute_result"
    }
   ],
   "source": [
    "prof_df = pd.DataFrame(prof_data, columns= ['profile_url', 'image_url', 'full_name', 'department', 'university', 'contact', 'email', 'fingerprints_url', 'research_topic', 'projects_url', 'project_info'])\n",
    "\n",
    "prof_df.to_csv (r'C:\\\\Users\\\\Saurabh\\\\Desktop\\\\IR\\\\Shruti\\\\new\\\\Docs csv etc\\\\bath_uni_df.csv', index = False, header=True)\n",
    "\n",
    "prof_df"
   ]
  },
  {
   "cell_type": "code",
   "execution_count": null,
   "metadata": {},
   "outputs": [],
   "source": []
  }
 ],
 "metadata": {
  "kernelspec": {
   "display_name": "Python 3",
   "language": "python",
   "name": "python3"
  },
  "language_info": {
   "codemirror_mode": {
    "name": "ipython",
    "version": 3
   },
   "file_extension": ".py",
   "mimetype": "text/x-python",
   "name": "python",
   "nbconvert_exporter": "python",
   "pygments_lexer": "ipython3",
   "version": "3.7.6"
  }
 },
 "nbformat": 4,
 "nbformat_minor": 4
}
